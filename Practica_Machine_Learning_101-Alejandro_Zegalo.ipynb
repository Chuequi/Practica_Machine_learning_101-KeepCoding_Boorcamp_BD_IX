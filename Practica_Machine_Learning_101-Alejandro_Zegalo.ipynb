{
 "cells": [
  {
   "cell_type": "markdown",
   "id": "b201756e",
   "metadata": {},
   "source": [
    "1 División train/test\n",
    "2 Análisis exploratorio:\n",
    "    Head, describe, dtypes, etc\n",
    "    Outliers\n",
    "    Correlación\n",
    "3 Preprocesamiento:\n",
    "    Eliminación de variables, mediante selección (random forest/Lasso), alta correlación, alto porcentaje de missings, lo que sea\n",
    "    Generación de variables\n",
    "4 Modelado:\n",
    "    Cross validation\n",
    "    Evaluación, mejor si lo hacéis de más de un modelo\n",
    "5 Conclusión (escrita, no numérica; un par de líneas tops)"
   ]
  },
  {
   "cell_type": "markdown",
   "id": "a9e137ae",
   "metadata": {},
   "source": [
    "# GRAN PRÁCTICA GRAN #"
   ]
  },
  {
   "cell_type": "markdown",
   "id": "178dc0e2",
   "metadata": {},
   "source": [
    "<div class=\"alert alert-success\">\n",
    "    <center>\n",
    "<b> Importamos librerías</b> \n",
    "    </center>\n",
    "</div>"
   ]
  },
  {
   "cell_type": "code",
   "execution_count": 1,
   "id": "3582bc7a",
   "metadata": {},
   "outputs": [],
   "source": [
    "import numpy  as np  \n",
    "import pandas as pd\n",
    "\n",
    "import matplotlib.pyplot as plt # para dibujar"
   ]
  },
  {
   "cell_type": "markdown",
   "id": "1659c3e4",
   "metadata": {},
   "source": [
    "<div class=\"alert alert-success\">\n",
    "    <center>\n",
    "<b> Carga de datos</b> \n",
    "    </center>\n",
    "</div>"
   ]
  },
  {
   "cell_type": "code",
   "execution_count": 2,
   "id": "ad432c7c",
   "metadata": {},
   "outputs": [
    {
     "data": {
      "text/html": [
       "<div>\n",
       "<style scoped>\n",
       "    .dataframe tbody tr th:only-of-type {\n",
       "        vertical-align: middle;\n",
       "    }\n",
       "\n",
       "    .dataframe tbody tr th {\n",
       "        vertical-align: top;\n",
       "    }\n",
       "\n",
       "    .dataframe thead th {\n",
       "        text-align: right;\n",
       "    }\n",
       "</style>\n",
       "<table border=\"1\" class=\"dataframe\">\n",
       "  <thead>\n",
       "    <tr style=\"text-align: right;\">\n",
       "      <th></th>\n",
       "      <th>ID</th>\n",
       "      <th>Listing Url</th>\n",
       "      <th>Scrape ID</th>\n",
       "      <th>Last Scraped</th>\n",
       "      <th>Name</th>\n",
       "      <th>Summary</th>\n",
       "      <th>Space</th>\n",
       "      <th>Description</th>\n",
       "      <th>Experiences Offered</th>\n",
       "      <th>Neighborhood Overview</th>\n",
       "      <th>...</th>\n",
       "      <th>Review Scores Communication</th>\n",
       "      <th>Review Scores Location</th>\n",
       "      <th>Review Scores Value</th>\n",
       "      <th>License</th>\n",
       "      <th>Jurisdiction Names</th>\n",
       "      <th>Cancellation Policy</th>\n",
       "      <th>Calculated host listings count</th>\n",
       "      <th>Reviews per Month</th>\n",
       "      <th>Geolocation</th>\n",
       "      <th>Features</th>\n",
       "    </tr>\n",
       "  </thead>\n",
       "  <tbody>\n",
       "    <tr>\n",
       "      <th>0</th>\n",
       "      <td>11210388</td>\n",
       "      <td>https://www.airbnb.com/rooms/11210388</td>\n",
       "      <td>20170306202425</td>\n",
       "      <td>2017-03-07</td>\n",
       "      <td>The Loft-Full Bath-Deck w/View</td>\n",
       "      <td>Loft in the Hill country 12-15 minutes directl...</td>\n",
       "      <td>This loft has a spectacular view of the hills ...</td>\n",
       "      <td>Loft in the Hill country 12-15 minutes directl...</td>\n",
       "      <td>none</td>\n",
       "      <td>This neighborhood is located in the hills west...</td>\n",
       "      <td>...</td>\n",
       "      <td>10.0</td>\n",
       "      <td>10.0</td>\n",
       "      <td>10.0</td>\n",
       "      <td>NaN</td>\n",
       "      <td>NaN</td>\n",
       "      <td>moderate</td>\n",
       "      <td>1.0</td>\n",
       "      <td>3.50</td>\n",
       "      <td>30.3373609355,-97.8632766782</td>\n",
       "      <td>Host Is Superhost,Host Has Profile Pic,Host Id...</td>\n",
       "    </tr>\n",
       "    <tr>\n",
       "      <th>1</th>\n",
       "      <td>17471131</td>\n",
       "      <td>https://www.airbnb.com/rooms/17471131</td>\n",
       "      <td>20170407214050</td>\n",
       "      <td>2017-04-08</td>\n",
       "      <td>Claris I, Friendly Rentals</td>\n",
       "      <td>This apartment has: 1 double bed, 1 double sof...</td>\n",
       "      <td>This apartment has: 1 double bed, 1 double sof...</td>\n",
       "      <td>This apartment has: 1 double bed, 1 double sof...</td>\n",
       "      <td>none</td>\n",
       "      <td>Plaza   Cataluña Catalonia Square is the large...</td>\n",
       "      <td>...</td>\n",
       "      <td>10.0</td>\n",
       "      <td>8.0</td>\n",
       "      <td>10.0</td>\n",
       "      <td>HUTB-006721</td>\n",
       "      <td>NaN</td>\n",
       "      <td>super_strict_30</td>\n",
       "      <td>106.0</td>\n",
       "      <td>0.86</td>\n",
       "      <td>41.3896829422,2.17262543017</td>\n",
       "      <td>Host Has Profile Pic,Requires License,Instant ...</td>\n",
       "    </tr>\n",
       "    <tr>\n",
       "      <th>2</th>\n",
       "      <td>17584891</td>\n",
       "      <td>https://www.airbnb.com/rooms/17584891</td>\n",
       "      <td>20170407214050</td>\n",
       "      <td>2017-04-08</td>\n",
       "      <td>Style Terrace Red, Friendly Rentals</td>\n",
       "      <td>This apartment has: 1 double bed, 1 double sof...</td>\n",
       "      <td>This apartment has: 1 double bed, 1 double sof...</td>\n",
       "      <td>This apartment has: 1 double bed, 1 double sof...</td>\n",
       "      <td>none</td>\n",
       "      <td>Plaza   Cataluña Catalonia Square is the large...</td>\n",
       "      <td>...</td>\n",
       "      <td>NaN</td>\n",
       "      <td>NaN</td>\n",
       "      <td>NaN</td>\n",
       "      <td>HUTB-007527</td>\n",
       "      <td>NaN</td>\n",
       "      <td>super_strict_30</td>\n",
       "      <td>106.0</td>\n",
       "      <td>NaN</td>\n",
       "      <td>41.3930345489,2.16217327868</td>\n",
       "      <td>Host Has Profile Pic,Requires License,Instant ...</td>\n",
       "    </tr>\n",
       "    <tr>\n",
       "      <th>3</th>\n",
       "      <td>5398030</td>\n",
       "      <td>https://www.airbnb.com/rooms/5398030</td>\n",
       "      <td>20170407214050</td>\n",
       "      <td>2017-04-08</td>\n",
       "      <td>Picasso Suite 1.4 Paseo de Gracia</td>\n",
       "      <td>Live like a local in Barcelona's most chic dis...</td>\n",
       "      <td>You wake up to the sun rising over Barcelona's...</td>\n",
       "      <td>Live like a local in Barcelona's most chic dis...</td>\n",
       "      <td>none</td>\n",
       "      <td>We're right in the heart of the chic L'Eixampl...</td>\n",
       "      <td>...</td>\n",
       "      <td>10.0</td>\n",
       "      <td>10.0</td>\n",
       "      <td>9.0</td>\n",
       "      <td>NaN</td>\n",
       "      <td>NaN</td>\n",
       "      <td>strict</td>\n",
       "      <td>24.0</td>\n",
       "      <td>1.09</td>\n",
       "      <td>41.3969668101,2.1674178103</td>\n",
       "      <td>Host Has Profile Pic,Host Identity Verified,Re...</td>\n",
       "    </tr>\n",
       "    <tr>\n",
       "      <th>4</th>\n",
       "      <td>18104606</td>\n",
       "      <td>https://www.airbnb.com/rooms/18104606</td>\n",
       "      <td>20170407214050</td>\n",
       "      <td>2017-04-08</td>\n",
       "      <td>Smart City Centre Apartment II</td>\n",
       "      <td>Unique apartment in vibrant neighborhoods, car...</td>\n",
       "      <td>License: HUTB-005313 Charming apartment, locat...</td>\n",
       "      <td>Unique apartment in vibrant neighborhoods, car...</td>\n",
       "      <td>none</td>\n",
       "      <td>NaN</td>\n",
       "      <td>...</td>\n",
       "      <td>NaN</td>\n",
       "      <td>NaN</td>\n",
       "      <td>NaN</td>\n",
       "      <td>NaN</td>\n",
       "      <td>NaN</td>\n",
       "      <td>flexible</td>\n",
       "      <td>92.0</td>\n",
       "      <td>NaN</td>\n",
       "      <td>41.3886851936,2.15514963616</td>\n",
       "      <td>Host Has Profile Pic,Host Identity Verified,Is...</td>\n",
       "    </tr>\n",
       "  </tbody>\n",
       "</table>\n",
       "<p>5 rows × 89 columns</p>\n",
       "</div>"
      ],
      "text/plain": [
       "         ID                            Listing Url       Scrape ID  \\\n",
       "0  11210388  https://www.airbnb.com/rooms/11210388  20170306202425   \n",
       "1  17471131  https://www.airbnb.com/rooms/17471131  20170407214050   \n",
       "2  17584891  https://www.airbnb.com/rooms/17584891  20170407214050   \n",
       "3   5398030   https://www.airbnb.com/rooms/5398030  20170407214050   \n",
       "4  18104606  https://www.airbnb.com/rooms/18104606  20170407214050   \n",
       "\n",
       "  Last Scraped                                 Name  \\\n",
       "0   2017-03-07       The Loft-Full Bath-Deck w/View   \n",
       "1   2017-04-08           Claris I, Friendly Rentals   \n",
       "2   2017-04-08  Style Terrace Red, Friendly Rentals   \n",
       "3   2017-04-08    Picasso Suite 1.4 Paseo de Gracia   \n",
       "4   2017-04-08       Smart City Centre Apartment II   \n",
       "\n",
       "                                             Summary  \\\n",
       "0  Loft in the Hill country 12-15 minutes directl...   \n",
       "1  This apartment has: 1 double bed, 1 double sof...   \n",
       "2  This apartment has: 1 double bed, 1 double sof...   \n",
       "3  Live like a local in Barcelona's most chic dis...   \n",
       "4  Unique apartment in vibrant neighborhoods, car...   \n",
       "\n",
       "                                               Space  \\\n",
       "0  This loft has a spectacular view of the hills ...   \n",
       "1  This apartment has: 1 double bed, 1 double sof...   \n",
       "2  This apartment has: 1 double bed, 1 double sof...   \n",
       "3  You wake up to the sun rising over Barcelona's...   \n",
       "4  License: HUTB-005313 Charming apartment, locat...   \n",
       "\n",
       "                                         Description Experiences Offered  \\\n",
       "0  Loft in the Hill country 12-15 minutes directl...                none   \n",
       "1  This apartment has: 1 double bed, 1 double sof...                none   \n",
       "2  This apartment has: 1 double bed, 1 double sof...                none   \n",
       "3  Live like a local in Barcelona's most chic dis...                none   \n",
       "4  Unique apartment in vibrant neighborhoods, car...                none   \n",
       "\n",
       "                               Neighborhood Overview  ...  \\\n",
       "0  This neighborhood is located in the hills west...  ...   \n",
       "1  Plaza   Cataluña Catalonia Square is the large...  ...   \n",
       "2  Plaza   Cataluña Catalonia Square is the large...  ...   \n",
       "3  We're right in the heart of the chic L'Eixampl...  ...   \n",
       "4                                                NaN  ...   \n",
       "\n",
       "  Review Scores Communication Review Scores Location Review Scores Value  \\\n",
       "0                        10.0                   10.0                10.0   \n",
       "1                        10.0                    8.0                10.0   \n",
       "2                         NaN                    NaN                 NaN   \n",
       "3                        10.0                   10.0                 9.0   \n",
       "4                         NaN                    NaN                 NaN   \n",
       "\n",
       "       License Jurisdiction Names Cancellation Policy  \\\n",
       "0          NaN                NaN            moderate   \n",
       "1  HUTB-006721                NaN     super_strict_30   \n",
       "2  HUTB-007527                NaN     super_strict_30   \n",
       "3          NaN                NaN              strict   \n",
       "4          NaN                NaN            flexible   \n",
       "\n",
       "  Calculated host listings count Reviews per Month  \\\n",
       "0                            1.0              3.50   \n",
       "1                          106.0              0.86   \n",
       "2                          106.0               NaN   \n",
       "3                           24.0              1.09   \n",
       "4                           92.0               NaN   \n",
       "\n",
       "                    Geolocation  \\\n",
       "0  30.3373609355,-97.8632766782   \n",
       "1   41.3896829422,2.17262543017   \n",
       "2   41.3930345489,2.16217327868   \n",
       "3    41.3969668101,2.1674178103   \n",
       "4   41.3886851936,2.15514963616   \n",
       "\n",
       "                                            Features  \n",
       "0  Host Is Superhost,Host Has Profile Pic,Host Id...  \n",
       "1  Host Has Profile Pic,Requires License,Instant ...  \n",
       "2  Host Has Profile Pic,Requires License,Instant ...  \n",
       "3  Host Has Profile Pic,Host Identity Verified,Re...  \n",
       "4  Host Has Profile Pic,Host Identity Verified,Is...  \n",
       "\n",
       "[5 rows x 89 columns]"
      ]
     },
     "execution_count": 2,
     "metadata": {},
     "output_type": "execute_result"
    }
   ],
   "source": [
    "airbnb_data = pd.read_csv(\"./data/airbnb-listings-extract.csv\",sep=\";\", decimal=\".\")\n",
    "airbnb_data.head()"
   ]
  },
  {
   "cell_type": "markdown",
   "id": "15600f41",
   "metadata": {},
   "source": [
    "<div class=\"alert alert-success\">\n",
    "    <center>\n",
    "<b> Desde ya puedo decir que voy a eliminar la URL, el ScapeID (metadato), summary, space, description, N. overview, license, jurisdiction names, reviews/month, y varias otras</b> \n",
    "    </center>\n",
    "</div>"
   ]
  },
  {
   "cell_type": "code",
   "execution_count": 3,
   "id": "f9fd2055",
   "metadata": {},
   "outputs": [
    {
     "data": {
      "text/plain": [
       "ID                                  int64\n",
       "Listing Url                        object\n",
       "Scrape ID                           int64\n",
       "Last Scraped                       object\n",
       "Name                               object\n",
       "                                   ...   \n",
       "Cancellation Policy                object\n",
       "Calculated host listings count    float64\n",
       "Reviews per Month                 float64\n",
       "Geolocation                        object\n",
       "Features                           object\n",
       "Length: 89, dtype: object"
      ]
     },
     "execution_count": 3,
     "metadata": {},
     "output_type": "execute_result"
    }
   ],
   "source": [
    "airbnb_data.dtypes"
   ]
  },
  {
   "cell_type": "code",
   "execution_count": 4,
   "id": "9575716f",
   "metadata": {},
   "outputs": [
    {
     "data": {
      "text/html": [
       "<div>\n",
       "<style scoped>\n",
       "    .dataframe tbody tr th:only-of-type {\n",
       "        vertical-align: middle;\n",
       "    }\n",
       "\n",
       "    .dataframe tbody tr th {\n",
       "        vertical-align: top;\n",
       "    }\n",
       "\n",
       "    .dataframe thead th {\n",
       "        text-align: right;\n",
       "    }\n",
       "</style>\n",
       "<table border=\"1\" class=\"dataframe\">\n",
       "  <thead>\n",
       "    <tr style=\"text-align: right;\">\n",
       "      <th></th>\n",
       "      <th>ID</th>\n",
       "      <th>Scrape ID</th>\n",
       "      <th>Host ID</th>\n",
       "      <th>Host Response Rate</th>\n",
       "      <th>Host Listings Count</th>\n",
       "      <th>Host Total Listings Count</th>\n",
       "      <th>Latitude</th>\n",
       "      <th>Longitude</th>\n",
       "      <th>Accommodates</th>\n",
       "      <th>Bathrooms</th>\n",
       "      <th>...</th>\n",
       "      <th>Number of Reviews</th>\n",
       "      <th>Review Scores Rating</th>\n",
       "      <th>Review Scores Accuracy</th>\n",
       "      <th>Review Scores Cleanliness</th>\n",
       "      <th>Review Scores Checkin</th>\n",
       "      <th>Review Scores Communication</th>\n",
       "      <th>Review Scores Location</th>\n",
       "      <th>Review Scores Value</th>\n",
       "      <th>Calculated host listings count</th>\n",
       "      <th>Reviews per Month</th>\n",
       "    </tr>\n",
       "  </thead>\n",
       "  <tbody>\n",
       "    <tr>\n",
       "      <th>count</th>\n",
       "      <td>1.478000e+04</td>\n",
       "      <td>1.478000e+04</td>\n",
       "      <td>1.478000e+04</td>\n",
       "      <td>12881.000000</td>\n",
       "      <td>14777.000000</td>\n",
       "      <td>14777.000000</td>\n",
       "      <td>14780.000000</td>\n",
       "      <td>14780.000000</td>\n",
       "      <td>14780.000000</td>\n",
       "      <td>14725.000000</td>\n",
       "      <td>...</td>\n",
       "      <td>14780.000000</td>\n",
       "      <td>11476.000000</td>\n",
       "      <td>11454.000000</td>\n",
       "      <td>11460.000000</td>\n",
       "      <td>11443.000000</td>\n",
       "      <td>11460.000000</td>\n",
       "      <td>11440.000000</td>\n",
       "      <td>11439.000000</td>\n",
       "      <td>14776.000000</td>\n",
       "      <td>11618.000000</td>\n",
       "    </tr>\n",
       "    <tr>\n",
       "      <th>mean</th>\n",
       "      <td>1.028089e+07</td>\n",
       "      <td>2.017037e+13</td>\n",
       "      <td>3.608080e+07</td>\n",
       "      <td>94.823461</td>\n",
       "      <td>12.513636</td>\n",
       "      <td>12.513636</td>\n",
       "      <td>40.497626</td>\n",
       "      <td>-3.858041</td>\n",
       "      <td>3.277808</td>\n",
       "      <td>1.281732</td>\n",
       "      <td>...</td>\n",
       "      <td>22.632273</td>\n",
       "      <td>91.697978</td>\n",
       "      <td>9.416012</td>\n",
       "      <td>9.328883</td>\n",
       "      <td>9.621778</td>\n",
       "      <td>9.647033</td>\n",
       "      <td>9.532168</td>\n",
       "      <td>9.218201</td>\n",
       "      <td>9.486871</td>\n",
       "      <td>1.870014</td>\n",
       "    </tr>\n",
       "    <tr>\n",
       "      <th>std</th>\n",
       "      <td>5.564829e+06</td>\n",
       "      <td>5.667971e+08</td>\n",
       "      <td>3.425360e+07</td>\n",
       "      <td>15.215988</td>\n",
       "      <td>34.090223</td>\n",
       "      <td>34.090223</td>\n",
       "      <td>4.641387</td>\n",
       "      <td>14.123146</td>\n",
       "      <td>2.097291</td>\n",
       "      <td>0.658517</td>\n",
       "      <td>...</td>\n",
       "      <td>38.290244</td>\n",
       "      <td>8.989101</td>\n",
       "      <td>0.921938</td>\n",
       "      <td>0.989933</td>\n",
       "      <td>0.802736</td>\n",
       "      <td>0.767116</td>\n",
       "      <td>0.774527</td>\n",
       "      <td>0.950578</td>\n",
       "      <td>23.626014</td>\n",
       "      <td>1.867550</td>\n",
       "    </tr>\n",
       "    <tr>\n",
       "      <th>min</th>\n",
       "      <td>1.862800e+04</td>\n",
       "      <td>2.016010e+13</td>\n",
       "      <td>1.745300e+04</td>\n",
       "      <td>0.000000</td>\n",
       "      <td>0.000000</td>\n",
       "      <td>0.000000</td>\n",
       "      <td>-37.851182</td>\n",
       "      <td>-123.131344</td>\n",
       "      <td>1.000000</td>\n",
       "      <td>0.000000</td>\n",
       "      <td>...</td>\n",
       "      <td>0.000000</td>\n",
       "      <td>20.000000</td>\n",
       "      <td>2.000000</td>\n",
       "      <td>2.000000</td>\n",
       "      <td>2.000000</td>\n",
       "      <td>2.000000</td>\n",
       "      <td>2.000000</td>\n",
       "      <td>2.000000</td>\n",
       "      <td>1.000000</td>\n",
       "      <td>0.020000</td>\n",
       "    </tr>\n",
       "    <tr>\n",
       "      <th>25%</th>\n",
       "      <td>5.554732e+06</td>\n",
       "      <td>2.017041e+13</td>\n",
       "      <td>6.787360e+06</td>\n",
       "      <td>100.000000</td>\n",
       "      <td>1.000000</td>\n",
       "      <td>1.000000</td>\n",
       "      <td>40.409726</td>\n",
       "      <td>-3.707604</td>\n",
       "      <td>2.000000</td>\n",
       "      <td>1.000000</td>\n",
       "      <td>...</td>\n",
       "      <td>1.000000</td>\n",
       "      <td>89.000000</td>\n",
       "      <td>9.000000</td>\n",
       "      <td>9.000000</td>\n",
       "      <td>9.000000</td>\n",
       "      <td>9.000000</td>\n",
       "      <td>9.000000</td>\n",
       "      <td>9.000000</td>\n",
       "      <td>1.000000</td>\n",
       "      <td>0.450000</td>\n",
       "    </tr>\n",
       "    <tr>\n",
       "      <th>50%</th>\n",
       "      <td>1.133492e+07</td>\n",
       "      <td>2.017041e+13</td>\n",
       "      <td>2.464875e+07</td>\n",
       "      <td>100.000000</td>\n",
       "      <td>2.000000</td>\n",
       "      <td>2.000000</td>\n",
       "      <td>40.419466</td>\n",
       "      <td>-3.700785</td>\n",
       "      <td>3.000000</td>\n",
       "      <td>1.000000</td>\n",
       "      <td>...</td>\n",
       "      <td>7.000000</td>\n",
       "      <td>94.000000</td>\n",
       "      <td>10.000000</td>\n",
       "      <td>10.000000</td>\n",
       "      <td>10.000000</td>\n",
       "      <td>10.000000</td>\n",
       "      <td>10.000000</td>\n",
       "      <td>9.000000</td>\n",
       "      <td>2.000000</td>\n",
       "      <td>1.200000</td>\n",
       "    </tr>\n",
       "    <tr>\n",
       "      <th>75%</th>\n",
       "      <td>1.532631e+07</td>\n",
       "      <td>2.017041e+13</td>\n",
       "      <td>5.432919e+07</td>\n",
       "      <td>100.000000</td>\n",
       "      <td>6.000000</td>\n",
       "      <td>6.000000</td>\n",
       "      <td>40.430916</td>\n",
       "      <td>-3.684057</td>\n",
       "      <td>4.000000</td>\n",
       "      <td>1.000000</td>\n",
       "      <td>...</td>\n",
       "      <td>27.000000</td>\n",
       "      <td>98.000000</td>\n",
       "      <td>10.000000</td>\n",
       "      <td>10.000000</td>\n",
       "      <td>10.000000</td>\n",
       "      <td>10.000000</td>\n",
       "      <td>10.000000</td>\n",
       "      <td>10.000000</td>\n",
       "      <td>5.000000</td>\n",
       "      <td>2.780000</td>\n",
       "    </tr>\n",
       "    <tr>\n",
       "      <th>max</th>\n",
       "      <td>1.910969e+07</td>\n",
       "      <td>2.017062e+13</td>\n",
       "      <td>1.247534e+08</td>\n",
       "      <td>100.000000</td>\n",
       "      <td>519.000000</td>\n",
       "      <td>519.000000</td>\n",
       "      <td>55.966912</td>\n",
       "      <td>153.371427</td>\n",
       "      <td>16.000000</td>\n",
       "      <td>8.000000</td>\n",
       "      <td>...</td>\n",
       "      <td>446.000000</td>\n",
       "      <td>100.000000</td>\n",
       "      <td>10.000000</td>\n",
       "      <td>10.000000</td>\n",
       "      <td>10.000000</td>\n",
       "      <td>10.000000</td>\n",
       "      <td>10.000000</td>\n",
       "      <td>10.000000</td>\n",
       "      <td>145.000000</td>\n",
       "      <td>17.210000</td>\n",
       "    </tr>\n",
       "  </tbody>\n",
       "</table>\n",
       "<p>8 rows × 36 columns</p>\n",
       "</div>"
      ],
      "text/plain": [
       "                 ID     Scrape ID       Host ID  Host Response Rate  \\\n",
       "count  1.478000e+04  1.478000e+04  1.478000e+04        12881.000000   \n",
       "mean   1.028089e+07  2.017037e+13  3.608080e+07           94.823461   \n",
       "std    5.564829e+06  5.667971e+08  3.425360e+07           15.215988   \n",
       "min    1.862800e+04  2.016010e+13  1.745300e+04            0.000000   \n",
       "25%    5.554732e+06  2.017041e+13  6.787360e+06          100.000000   \n",
       "50%    1.133492e+07  2.017041e+13  2.464875e+07          100.000000   \n",
       "75%    1.532631e+07  2.017041e+13  5.432919e+07          100.000000   \n",
       "max    1.910969e+07  2.017062e+13  1.247534e+08          100.000000   \n",
       "\n",
       "       Host Listings Count  Host Total Listings Count      Latitude  \\\n",
       "count         14777.000000               14777.000000  14780.000000   \n",
       "mean             12.513636                  12.513636     40.497626   \n",
       "std              34.090223                  34.090223      4.641387   \n",
       "min               0.000000                   0.000000    -37.851182   \n",
       "25%               1.000000                   1.000000     40.409726   \n",
       "50%               2.000000                   2.000000     40.419466   \n",
       "75%               6.000000                   6.000000     40.430916   \n",
       "max             519.000000                 519.000000     55.966912   \n",
       "\n",
       "          Longitude  Accommodates     Bathrooms  ...  Number of Reviews  \\\n",
       "count  14780.000000  14780.000000  14725.000000  ...       14780.000000   \n",
       "mean      -3.858041      3.277808      1.281732  ...          22.632273   \n",
       "std       14.123146      2.097291      0.658517  ...          38.290244   \n",
       "min     -123.131344      1.000000      0.000000  ...           0.000000   \n",
       "25%       -3.707604      2.000000      1.000000  ...           1.000000   \n",
       "50%       -3.700785      3.000000      1.000000  ...           7.000000   \n",
       "75%       -3.684057      4.000000      1.000000  ...          27.000000   \n",
       "max      153.371427     16.000000      8.000000  ...         446.000000   \n",
       "\n",
       "       Review Scores Rating  Review Scores Accuracy  \\\n",
       "count          11476.000000            11454.000000   \n",
       "mean              91.697978                9.416012   \n",
       "std                8.989101                0.921938   \n",
       "min               20.000000                2.000000   \n",
       "25%               89.000000                9.000000   \n",
       "50%               94.000000               10.000000   \n",
       "75%               98.000000               10.000000   \n",
       "max              100.000000               10.000000   \n",
       "\n",
       "       Review Scores Cleanliness  Review Scores Checkin  \\\n",
       "count               11460.000000           11443.000000   \n",
       "mean                    9.328883               9.621778   \n",
       "std                     0.989933               0.802736   \n",
       "min                     2.000000               2.000000   \n",
       "25%                     9.000000               9.000000   \n",
       "50%                    10.000000              10.000000   \n",
       "75%                    10.000000              10.000000   \n",
       "max                    10.000000              10.000000   \n",
       "\n",
       "       Review Scores Communication  Review Scores Location  \\\n",
       "count                 11460.000000            11440.000000   \n",
       "mean                      9.647033                9.532168   \n",
       "std                       0.767116                0.774527   \n",
       "min                       2.000000                2.000000   \n",
       "25%                       9.000000                9.000000   \n",
       "50%                      10.000000               10.000000   \n",
       "75%                      10.000000               10.000000   \n",
       "max                      10.000000               10.000000   \n",
       "\n",
       "       Review Scores Value  Calculated host listings count  Reviews per Month  \n",
       "count         11439.000000                    14776.000000       11618.000000  \n",
       "mean              9.218201                        9.486871           1.870014  \n",
       "std               0.950578                       23.626014           1.867550  \n",
       "min               2.000000                        1.000000           0.020000  \n",
       "25%               9.000000                        1.000000           0.450000  \n",
       "50%               9.000000                        2.000000           1.200000  \n",
       "75%              10.000000                        5.000000           2.780000  \n",
       "max              10.000000                      145.000000          17.210000  \n",
       "\n",
       "[8 rows x 36 columns]"
      ]
     },
     "execution_count": 4,
     "metadata": {},
     "output_type": "execute_result"
    }
   ],
   "source": [
    "airbnb_data.describe()"
   ]
  },
  {
   "cell_type": "code",
   "execution_count": 5,
   "id": "60f5206a",
   "metadata": {},
   "outputs": [
    {
     "data": {
      "text/plain": [
       "Index(['ID', 'Listing Url', 'Scrape ID', 'Last Scraped', 'Name', 'Summary',\n",
       "       'Space', 'Description', 'Experiences Offered', 'Neighborhood Overview',\n",
       "       'Notes', 'Transit', 'Access', 'Interaction', 'House Rules',\n",
       "       'Thumbnail Url', 'Medium Url', 'Picture Url', 'XL Picture Url',\n",
       "       'Host ID', 'Host URL', 'Host Name', 'Host Since', 'Host Location',\n",
       "       'Host About', 'Host Response Time', 'Host Response Rate',\n",
       "       'Host Acceptance Rate', 'Host Thumbnail Url', 'Host Picture Url',\n",
       "       'Host Neighbourhood', 'Host Listings Count',\n",
       "       'Host Total Listings Count', 'Host Verifications', 'Street',\n",
       "       'Neighbourhood', 'Neighbourhood Cleansed',\n",
       "       'Neighbourhood Group Cleansed', 'City', 'State', 'Zipcode', 'Market',\n",
       "       'Smart Location', 'Country Code', 'Country', 'Latitude', 'Longitude',\n",
       "       'Property Type', 'Room Type', 'Accommodates', 'Bathrooms', 'Bedrooms',\n",
       "       'Beds', 'Bed Type', 'Amenities', 'Square Feet', 'Price', 'Weekly Price',\n",
       "       'Monthly Price', 'Security Deposit', 'Cleaning Fee', 'Guests Included',\n",
       "       'Extra People', 'Minimum Nights', 'Maximum Nights', 'Calendar Updated',\n",
       "       'Has Availability', 'Availability 30', 'Availability 60',\n",
       "       'Availability 90', 'Availability 365', 'Calendar last Scraped',\n",
       "       'Number of Reviews', 'First Review', 'Last Review',\n",
       "       'Review Scores Rating', 'Review Scores Accuracy',\n",
       "       'Review Scores Cleanliness', 'Review Scores Checkin',\n",
       "       'Review Scores Communication', 'Review Scores Location',\n",
       "       'Review Scores Value', 'License', 'Jurisdiction Names',\n",
       "       'Cancellation Policy', 'Calculated host listings count',\n",
       "       'Reviews per Month', 'Geolocation', 'Features'],\n",
       "      dtype='object')"
      ]
     },
     "execution_count": 5,
     "metadata": {},
     "output_type": "execute_result"
    }
   ],
   "source": [
    "airbnb_data.columns\n"
   ]
  },
  {
   "cell_type": "markdown",
   "id": "100495f2",
   "metadata": {},
   "source": [
    "<div class=\"alert alert-success\">\n",
    "    <center>\n",
    "<b> Procedo a dividir entre train y test</b> \n",
    "    </center>\n",
    "</div>"
   ]
  },
  {
   "cell_type": "code",
   "execution_count": 6,
   "id": "f8438ef2",
   "metadata": {},
   "outputs": [
    {
     "name": "stdout",
     "output_type": "stream",
     "text": [
      "Dimensiones del dataset de training: (11824, 89)\n",
      "Dimensiones del dataset de test: (2956, 89)\n"
     ]
    }
   ],
   "source": [
    "from sklearn.model_selection import train_test_split\n",
    "train, test = train_test_split(airbnb_data, test_size=0.2, shuffle=True, random_state=0)\n",
    "\n",
    "print(f'Dimensiones del dataset de training: {train.shape}')\n",
    "print(f'Dimensiones del dataset de test: {test.shape}')\n",
    "\n",
    "# Guardamos\n",
    "train.to_csv('./train.csv', sep=';', decimal='.', index=False)\n",
    "test.to_csv('./test.csv', sep=';', decimal='.', index=False)\n",
    "\n",
    "# A partir de este momento cargamos el dataset de train y trabajamos ÚNICAMENTE con él. \n",
    "\n",
    "airbnb_data_train = pd.read_csv('./train.csv', sep=';', decimal='.')\n",
    "airbnb_data_test = pd.read_csv('./test.csv', sep=';', decimal='.')\n"
   ]
  },
  {
   "cell_type": "markdown",
   "id": "b2b86591",
   "metadata": {},
   "source": [
    "<div class=\"alert alert-success\">\n",
    "    <center>\n",
    "<b> Me cago en satán, esto tiene muchísimas columnas</b> \n",
    "    </center>\n",
    "</div>"
   ]
  },
  {
   "cell_type": "markdown",
   "id": "803603b3",
   "metadata": {},
   "source": [
    "<div class=\"alert alert-warning\">\n",
    "    <center>\n",
    "<b> ATENCIÓN: Para facilitar la correción, aclaro lo siguiente: de aquí en adelante estoy nombrando al training set como \"airbnb_data_clean\". Esto es así porque avancé de esta forma y luego me dí cuenta de que había que separar los datasets antes de hacer cualquier cosa... así que para no cambiar todo lo dejé como está</b> \n",
    "    </center>\n",
    "</div>"
   ]
  },
  {
   "cell_type": "code",
   "execution_count": 7,
   "id": "db778a03",
   "metadata": {},
   "outputs": [
    {
     "data": {
      "text/html": [
       "<div>\n",
       "<style scoped>\n",
       "    .dataframe tbody tr th:only-of-type {\n",
       "        vertical-align: middle;\n",
       "    }\n",
       "\n",
       "    .dataframe tbody tr th {\n",
       "        vertical-align: top;\n",
       "    }\n",
       "\n",
       "    .dataframe thead th {\n",
       "        text-align: right;\n",
       "    }\n",
       "</style>\n",
       "<table border=\"1\" class=\"dataframe\">\n",
       "  <thead>\n",
       "    <tr style=\"text-align: right;\">\n",
       "      <th></th>\n",
       "      <th>Latitude</th>\n",
       "      <th>Longitude</th>\n",
       "      <th>Room Type</th>\n",
       "      <th>Accommodates</th>\n",
       "      <th>Bathrooms</th>\n",
       "      <th>Bedrooms</th>\n",
       "      <th>Beds</th>\n",
       "      <th>Bed Type</th>\n",
       "      <th>Price</th>\n",
       "      <th>Number of Reviews</th>\n",
       "      <th>Review Scores Rating</th>\n",
       "    </tr>\n",
       "  </thead>\n",
       "  <tbody>\n",
       "    <tr>\n",
       "      <th>0</th>\n",
       "      <td>40.407732</td>\n",
       "      <td>-3.684819</td>\n",
       "      <td>Entire home/apt</td>\n",
       "      <td>4</td>\n",
       "      <td>1.0</td>\n",
       "      <td>1.0</td>\n",
       "      <td>2.0</td>\n",
       "      <td>Real Bed</td>\n",
       "      <td>60.0</td>\n",
       "      <td>12</td>\n",
       "      <td>95.0</td>\n",
       "    </tr>\n",
       "    <tr>\n",
       "      <th>1</th>\n",
       "      <td>40.415802</td>\n",
       "      <td>-3.705340</td>\n",
       "      <td>Entire home/apt</td>\n",
       "      <td>4</td>\n",
       "      <td>1.0</td>\n",
       "      <td>1.0</td>\n",
       "      <td>2.0</td>\n",
       "      <td>Real Bed</td>\n",
       "      <td>50.0</td>\n",
       "      <td>20</td>\n",
       "      <td>91.0</td>\n",
       "    </tr>\n",
       "    <tr>\n",
       "      <th>2</th>\n",
       "      <td>40.389048</td>\n",
       "      <td>-3.740374</td>\n",
       "      <td>Shared room</td>\n",
       "      <td>1</td>\n",
       "      <td>1.5</td>\n",
       "      <td>1.0</td>\n",
       "      <td>8.0</td>\n",
       "      <td>Real Bed</td>\n",
       "      <td>10.0</td>\n",
       "      <td>0</td>\n",
       "      <td>NaN</td>\n",
       "    </tr>\n",
       "    <tr>\n",
       "      <th>3</th>\n",
       "      <td>40.412814</td>\n",
       "      <td>-3.703052</td>\n",
       "      <td>Private room</td>\n",
       "      <td>2</td>\n",
       "      <td>3.0</td>\n",
       "      <td>1.0</td>\n",
       "      <td>1.0</td>\n",
       "      <td>Real Bed</td>\n",
       "      <td>30.0</td>\n",
       "      <td>0</td>\n",
       "      <td>NaN</td>\n",
       "    </tr>\n",
       "    <tr>\n",
       "      <th>4</th>\n",
       "      <td>40.438631</td>\n",
       "      <td>-3.713716</td>\n",
       "      <td>Private room</td>\n",
       "      <td>2</td>\n",
       "      <td>1.0</td>\n",
       "      <td>1.0</td>\n",
       "      <td>1.0</td>\n",
       "      <td>Real Bed</td>\n",
       "      <td>32.0</td>\n",
       "      <td>97</td>\n",
       "      <td>92.0</td>\n",
       "    </tr>\n",
       "  </tbody>\n",
       "</table>\n",
       "</div>"
      ],
      "text/plain": [
       "    Latitude  Longitude        Room Type  Accommodates  Bathrooms  Bedrooms  \\\n",
       "0  40.407732  -3.684819  Entire home/apt             4        1.0       1.0   \n",
       "1  40.415802  -3.705340  Entire home/apt             4        1.0       1.0   \n",
       "2  40.389048  -3.740374      Shared room             1        1.5       1.0   \n",
       "3  40.412814  -3.703052     Private room             2        3.0       1.0   \n",
       "4  40.438631  -3.713716     Private room             2        1.0       1.0   \n",
       "\n",
       "   Beds  Bed Type  Price  Number of Reviews  Review Scores Rating  \n",
       "0   2.0  Real Bed   60.0                 12                  95.0  \n",
       "1   2.0  Real Bed   50.0                 20                  91.0  \n",
       "2   8.0  Real Bed   10.0                  0                   NaN  \n",
       "3   1.0  Real Bed   30.0                  0                   NaN  \n",
       "4   1.0  Real Bed   32.0                 97                  92.0  "
      ]
     },
     "execution_count": 7,
     "metadata": {},
     "output_type": "execute_result"
    }
   ],
   "source": [
    "airbnb_data_clean = airbnb_data_train.drop([\"ID\",\"Listing Url\", \"Scrape ID\",\"Name\",\"Summary\",\"Space\",\"Description\",\"Experiences Offered\",\n",
    "                                      \"Neighborhood Overview\",\"Notes\",\"Transit\",\"Access\",\"Interaction\",\"House Rules\",\n",
    "                                      \"Thumbnail Url\",\"Medium Url\",\"Picture Url\",\"XL Picture Url\",\"Host ID\",\"Host URL\",\n",
    "                                      \"Host Name\", \"Host Since\",\n",
    "\"Host Location\",\n",
    "\"Host About\",\n",
    "\"Host Response Time\",\n",
    "\"Host Response Rate\",\n",
    "\"Host Acceptance Rate\",\n",
    "\"Host Thumbnail Url\",\n",
    "\"Host Picture Url\",\n",
    "\"Host Neighbourhood\",\n",
    "\"Host Listings Count\",\n",
    "\"Host Total Listings Count\",\n",
    "\"Host Verifications\",\n",
    "\"Street\",\n",
    "\"Neighbourhood Cleansed\",\n",
    "\"Neighbourhood Group Cleansed\",\n",
    "\"Market\",\n",
    "\"Smart Location\",\n",
    "\"Country Code\",\n",
    "\"Weekly Price\",\n",
    "\"Monthly Price\",\n",
    "\"Security Deposit\",\n",
    "\"Cleaning Fee\",\n",
    "\"Guests Included\",\n",
    "\"Extra People\",\n",
    "\"Minimum Nights\",\n",
    "\"Maximum Nights\",\n",
    "\"Calendar Updated\",\n",
    "\"Has Availability\",\n",
    "\"Availability 30\",\n",
    "\"Availability 60\",\n",
    "\"Availability 90\",\n",
    "\"Availability 365\",\n",
    "\"Calendar last Scraped\",\n",
    "\"First Review\",\n",
    "\"Last Review\",\n",
    "\"Review Scores Accuracy\",\n",
    "\"Review Scores Cleanliness\",\n",
    "\"Review Scores Checkin\",\n",
    "\"Review Scores Communication\",\n",
    "\"Review Scores Location\",\n",
    "\"Review Scores Value\",\n",
    "\"License\",\n",
    "\"Jurisdiction Names\",\n",
    "\"Cancellation Policy\",\n",
    "\"Calculated host listings count\",\n",
    "\"Reviews per Month\",\n",
    "\"Geolocation\",\n",
    "\"Features\",\n",
    "\"Amenities\",\n",
    "\"Last Scraped\",\n",
    "\"State\",\n",
    "\"Zipcode\", \"Square Feet\", \"City\", \"Country\", \"Neighbourhood\", \"Property Type\"], axis=1)\n",
    "airbnb_data_clean.head()\n"
   ]
  },
  {
   "cell_type": "markdown",
   "id": "e5354dcf",
   "metadata": {},
   "source": [
    "<div class=\"alert alert-success\">\n",
    "    <center>\n",
    "<b> La mayoría de estas columnas no aportarán nada para predecir el precio (por ejemplo, todas las que contengan URLs). Algunas las elimino porque según mi criterio no aportarán tanto, como \"last review\" o \"guests included\".  <br><br>Mi lógica es que, en un principio, mientras menos variables, mejor. De esta forma simplifico el modelo y disminuyo los tiempos de procesamiento. Una vez armada la estructura, puedo ir devolviendo alguna que otra columna para evaluar su impacto en el modelo.</b> \n",
    "    </center>\n",
    "</div>"
   ]
  },
  {
   "cell_type": "code",
   "execution_count": 8,
   "id": "d19ae032",
   "metadata": {},
   "outputs": [
    {
     "data": {
      "text/html": [
       "<div>\n",
       "<style scoped>\n",
       "    .dataframe tbody tr th:only-of-type {\n",
       "        vertical-align: middle;\n",
       "    }\n",
       "\n",
       "    .dataframe tbody tr th {\n",
       "        vertical-align: top;\n",
       "    }\n",
       "\n",
       "    .dataframe thead th {\n",
       "        text-align: right;\n",
       "    }\n",
       "</style>\n",
       "<table border=\"1\" class=\"dataframe\">\n",
       "  <thead>\n",
       "    <tr style=\"text-align: right;\">\n",
       "      <th></th>\n",
       "      <th>0</th>\n",
       "      <th>1</th>\n",
       "      <th>2</th>\n",
       "      <th>3</th>\n",
       "      <th>4</th>\n",
       "    </tr>\n",
       "  </thead>\n",
       "  <tbody>\n",
       "    <tr>\n",
       "      <th>Latitude</th>\n",
       "      <td>40.407732</td>\n",
       "      <td>40.415802</td>\n",
       "      <td>40.389048</td>\n",
       "      <td>40.412814</td>\n",
       "      <td>40.438631</td>\n",
       "    </tr>\n",
       "    <tr>\n",
       "      <th>Longitude</th>\n",
       "      <td>-3.684819</td>\n",
       "      <td>-3.70534</td>\n",
       "      <td>-3.740374</td>\n",
       "      <td>-3.703052</td>\n",
       "      <td>-3.713716</td>\n",
       "    </tr>\n",
       "    <tr>\n",
       "      <th>Room Type</th>\n",
       "      <td>Entire home/apt</td>\n",
       "      <td>Entire home/apt</td>\n",
       "      <td>Shared room</td>\n",
       "      <td>Private room</td>\n",
       "      <td>Private room</td>\n",
       "    </tr>\n",
       "    <tr>\n",
       "      <th>Accommodates</th>\n",
       "      <td>4</td>\n",
       "      <td>4</td>\n",
       "      <td>1</td>\n",
       "      <td>2</td>\n",
       "      <td>2</td>\n",
       "    </tr>\n",
       "    <tr>\n",
       "      <th>Bathrooms</th>\n",
       "      <td>1.0</td>\n",
       "      <td>1.0</td>\n",
       "      <td>1.5</td>\n",
       "      <td>3.0</td>\n",
       "      <td>1.0</td>\n",
       "    </tr>\n",
       "    <tr>\n",
       "      <th>Bedrooms</th>\n",
       "      <td>1.0</td>\n",
       "      <td>1.0</td>\n",
       "      <td>1.0</td>\n",
       "      <td>1.0</td>\n",
       "      <td>1.0</td>\n",
       "    </tr>\n",
       "    <tr>\n",
       "      <th>Beds</th>\n",
       "      <td>2.0</td>\n",
       "      <td>2.0</td>\n",
       "      <td>8.0</td>\n",
       "      <td>1.0</td>\n",
       "      <td>1.0</td>\n",
       "    </tr>\n",
       "    <tr>\n",
       "      <th>Bed Type</th>\n",
       "      <td>Real Bed</td>\n",
       "      <td>Real Bed</td>\n",
       "      <td>Real Bed</td>\n",
       "      <td>Real Bed</td>\n",
       "      <td>Real Bed</td>\n",
       "    </tr>\n",
       "    <tr>\n",
       "      <th>Price</th>\n",
       "      <td>60.0</td>\n",
       "      <td>50.0</td>\n",
       "      <td>10.0</td>\n",
       "      <td>30.0</td>\n",
       "      <td>32.0</td>\n",
       "    </tr>\n",
       "    <tr>\n",
       "      <th>Number of Reviews</th>\n",
       "      <td>12</td>\n",
       "      <td>20</td>\n",
       "      <td>0</td>\n",
       "      <td>0</td>\n",
       "      <td>97</td>\n",
       "    </tr>\n",
       "    <tr>\n",
       "      <th>Review Scores Rating</th>\n",
       "      <td>95.0</td>\n",
       "      <td>91.0</td>\n",
       "      <td>NaN</td>\n",
       "      <td>NaN</td>\n",
       "      <td>92.0</td>\n",
       "    </tr>\n",
       "  </tbody>\n",
       "</table>\n",
       "</div>"
      ],
      "text/plain": [
       "                                    0                1            2  \\\n",
       "Latitude                    40.407732        40.415802    40.389048   \n",
       "Longitude                   -3.684819         -3.70534    -3.740374   \n",
       "Room Type             Entire home/apt  Entire home/apt  Shared room   \n",
       "Accommodates                        4                4            1   \n",
       "Bathrooms                         1.0              1.0          1.5   \n",
       "Bedrooms                          1.0              1.0          1.0   \n",
       "Beds                              2.0              2.0          8.0   \n",
       "Bed Type                     Real Bed         Real Bed     Real Bed   \n",
       "Price                            60.0             50.0         10.0   \n",
       "Number of Reviews                  12               20            0   \n",
       "Review Scores Rating             95.0             91.0          NaN   \n",
       "\n",
       "                                 3             4  \n",
       "Latitude                 40.412814     40.438631  \n",
       "Longitude                -3.703052     -3.713716  \n",
       "Room Type             Private room  Private room  \n",
       "Accommodates                     2             2  \n",
       "Bathrooms                      3.0           1.0  \n",
       "Bedrooms                       1.0           1.0  \n",
       "Beds                           1.0           1.0  \n",
       "Bed Type                  Real Bed      Real Bed  \n",
       "Price                         30.0          32.0  \n",
       "Number of Reviews                0            97  \n",
       "Review Scores Rating           NaN          92.0  "
      ]
     },
     "execution_count": 8,
     "metadata": {},
     "output_type": "execute_result"
    }
   ],
   "source": [
    "airbnb_data_clean.head().T"
   ]
  },
  {
   "cell_type": "code",
   "execution_count": 9,
   "id": "5d31a769",
   "metadata": {
    "scrolled": true
   },
   "outputs": [
    {
     "data": {
      "text/plain": [
       "Index(['Latitude', 'Longitude', 'Room Type', 'Accommodates', 'Bathrooms',\n",
       "       'Bedrooms', 'Beds', 'Bed Type', 'Price', 'Number of Reviews',\n",
       "       'Review Scores Rating'],\n",
       "      dtype='object')"
      ]
     },
     "execution_count": 9,
     "metadata": {},
     "output_type": "execute_result"
    }
   ],
   "source": [
    "airbnb_data_clean.columns"
   ]
  },
  {
   "cell_type": "markdown",
   "id": "6df561ba",
   "metadata": {},
   "source": [
    "<div class=\"alert alert-success\">\n",
    "    <center>\n",
    "<b> Codifico las variables Room type y Bed Type</b> \n",
    "    </center>\n",
    "</div>"
   ]
  },
  {
   "cell_type": "code",
   "execution_count": 10,
   "id": "0f8d567a",
   "metadata": {
    "scrolled": true
   },
   "outputs": [
    {
     "data": {
      "text/html": [
       "<div>\n",
       "<style scoped>\n",
       "    .dataframe tbody tr th:only-of-type {\n",
       "        vertical-align: middle;\n",
       "    }\n",
       "\n",
       "    .dataframe tbody tr th {\n",
       "        vertical-align: top;\n",
       "    }\n",
       "\n",
       "    .dataframe thead th {\n",
       "        text-align: right;\n",
       "    }\n",
       "</style>\n",
       "<table border=\"1\" class=\"dataframe\">\n",
       "  <thead>\n",
       "    <tr style=\"text-align: right;\">\n",
       "      <th></th>\n",
       "      <th>Latitude</th>\n",
       "      <th>Longitude</th>\n",
       "      <th>Room Type</th>\n",
       "      <th>Accommodates</th>\n",
       "      <th>Bathrooms</th>\n",
       "      <th>Bedrooms</th>\n",
       "      <th>Beds</th>\n",
       "      <th>Bed Type</th>\n",
       "      <th>Price</th>\n",
       "      <th>Number of Reviews</th>\n",
       "      <th>Review Scores Rating</th>\n",
       "    </tr>\n",
       "  </thead>\n",
       "  <tbody>\n",
       "    <tr>\n",
       "      <th>0</th>\n",
       "      <td>40.407732</td>\n",
       "      <td>-3.684819</td>\n",
       "      <td>95.101560</td>\n",
       "      <td>4</td>\n",
       "      <td>1.0</td>\n",
       "      <td>1.0</td>\n",
       "      <td>2.0</td>\n",
       "      <td>74.080606</td>\n",
       "      <td>60.0</td>\n",
       "      <td>12</td>\n",
       "      <td>95.0</td>\n",
       "    </tr>\n",
       "    <tr>\n",
       "      <th>1</th>\n",
       "      <td>40.415802</td>\n",
       "      <td>-3.705340</td>\n",
       "      <td>95.101560</td>\n",
       "      <td>4</td>\n",
       "      <td>1.0</td>\n",
       "      <td>1.0</td>\n",
       "      <td>2.0</td>\n",
       "      <td>74.080606</td>\n",
       "      <td>50.0</td>\n",
       "      <td>20</td>\n",
       "      <td>91.0</td>\n",
       "    </tr>\n",
       "    <tr>\n",
       "      <th>2</th>\n",
       "      <td>40.389048</td>\n",
       "      <td>-3.740374</td>\n",
       "      <td>31.320988</td>\n",
       "      <td>1</td>\n",
       "      <td>1.5</td>\n",
       "      <td>1.0</td>\n",
       "      <td>8.0</td>\n",
       "      <td>74.080606</td>\n",
       "      <td>10.0</td>\n",
       "      <td>0</td>\n",
       "      <td>NaN</td>\n",
       "    </tr>\n",
       "    <tr>\n",
       "      <th>3</th>\n",
       "      <td>40.412814</td>\n",
       "      <td>-3.703052</td>\n",
       "      <td>40.894831</td>\n",
       "      <td>2</td>\n",
       "      <td>3.0</td>\n",
       "      <td>1.0</td>\n",
       "      <td>1.0</td>\n",
       "      <td>74.080606</td>\n",
       "      <td>30.0</td>\n",
       "      <td>0</td>\n",
       "      <td>NaN</td>\n",
       "    </tr>\n",
       "    <tr>\n",
       "      <th>4</th>\n",
       "      <td>40.438631</td>\n",
       "      <td>-3.713716</td>\n",
       "      <td>40.894831</td>\n",
       "      <td>2</td>\n",
       "      <td>1.0</td>\n",
       "      <td>1.0</td>\n",
       "      <td>1.0</td>\n",
       "      <td>74.080606</td>\n",
       "      <td>32.0</td>\n",
       "      <td>97</td>\n",
       "      <td>92.0</td>\n",
       "    </tr>\n",
       "  </tbody>\n",
       "</table>\n",
       "</div>"
      ],
      "text/plain": [
       "    Latitude  Longitude  Room Type  Accommodates  Bathrooms  Bedrooms  Beds  \\\n",
       "0  40.407732  -3.684819  95.101560             4        1.0       1.0   2.0   \n",
       "1  40.415802  -3.705340  95.101560             4        1.0       1.0   2.0   \n",
       "2  40.389048  -3.740374  31.320988             1        1.5       1.0   8.0   \n",
       "3  40.412814  -3.703052  40.894831             2        3.0       1.0   1.0   \n",
       "4  40.438631  -3.713716  40.894831             2        1.0       1.0   1.0   \n",
       "\n",
       "    Bed Type  Price  Number of Reviews  Review Scores Rating  \n",
       "0  74.080606   60.0                 12                  95.0  \n",
       "1  74.080606   50.0                 20                  91.0  \n",
       "2  74.080606   10.0                  0                   NaN  \n",
       "3  74.080606   30.0                  0                   NaN  \n",
       "4  74.080606   32.0                 97                  92.0  "
      ]
     },
     "execution_count": 10,
     "metadata": {},
     "output_type": "execute_result"
    }
   ],
   "source": [
    "categorical = ['Room Type', 'Bed Type']\n",
    "\n",
    "mean_map = {}\n",
    "for c in categorical:\n",
    "    mean = airbnb_data_clean.groupby(c)['Price'].mean()\n",
    "    airbnb_data_clean[c] = airbnb_data_clean[c].map(mean)    \n",
    "    mean_map[c] = mean\n",
    "\n",
    "# Si hubiera test, luego se haría:\n",
    "#for c in categorical:\n",
    "#    data_test[c] = data_test[c].map(mean_map[c])\n",
    "\n",
    "airbnb_data_clean.head()"
   ]
  },
  {
   "cell_type": "markdown",
   "id": "c91f2a26",
   "metadata": {},
   "source": [
    "<div class=\"alert alert-success\">\n",
    "    <center>\n",
    "<b> Esto lo hice en un principio hasta que ví que convenía eliminar la columna \"Sq Feet\". Ya no es necesario</b> \n",
    "    </center>\n",
    "</div>"
   ]
  },
  {
   "cell_type": "code",
   "execution_count": 11,
   "id": "79d91d5f",
   "metadata": {},
   "outputs": [],
   "source": [
    "# airbnb_data_clean[\"Square Feet\"] = airbnb_data_clean[\"Square Feet\"].apply(lambda x: x * 0.3048 * 0.3048)\n",
    "# ya lo hice una vez y si ejecuto de nuevo me tira error porque no encuentra la columna\n",
    "# airbnb_data_clean.columns = ['Neighbourhood', 'City', 'Country', 'Latitude',\n",
    "#        'Longitude', 'Property Type', 'Room Type', 'Accommodates', 'Bathrooms',\n",
    "#        'Bedrooms', 'Beds', 'Bed Type', 'Square Meters', 'Price',\n",
    "#        'Number of Reviews', 'Review Scores Rating']"
   ]
  },
  {
   "cell_type": "code",
   "execution_count": 12,
   "id": "b8d5f633",
   "metadata": {
    "scrolled": true
   },
   "outputs": [
    {
     "data": {
      "text/html": [
       "<div>\n",
       "<style scoped>\n",
       "    .dataframe tbody tr th:only-of-type {\n",
       "        vertical-align: middle;\n",
       "    }\n",
       "\n",
       "    .dataframe tbody tr th {\n",
       "        vertical-align: top;\n",
       "    }\n",
       "\n",
       "    .dataframe thead th {\n",
       "        text-align: right;\n",
       "    }\n",
       "</style>\n",
       "<table border=\"1\" class=\"dataframe\">\n",
       "  <thead>\n",
       "    <tr style=\"text-align: right;\">\n",
       "      <th></th>\n",
       "      <th>Latitude</th>\n",
       "      <th>Longitude</th>\n",
       "      <th>Room Type</th>\n",
       "      <th>Accommodates</th>\n",
       "      <th>Bathrooms</th>\n",
       "      <th>Bedrooms</th>\n",
       "      <th>Beds</th>\n",
       "      <th>Bed Type</th>\n",
       "      <th>Price</th>\n",
       "      <th>Number of Reviews</th>\n",
       "      <th>Review Scores Rating</th>\n",
       "    </tr>\n",
       "  </thead>\n",
       "  <tbody>\n",
       "    <tr>\n",
       "      <th>count</th>\n",
       "      <td>11824.000000</td>\n",
       "      <td>11824.000000</td>\n",
       "      <td>11824.000000</td>\n",
       "      <td>11824.000000</td>\n",
       "      <td>11780.000000</td>\n",
       "      <td>11804.00000</td>\n",
       "      <td>11787.000000</td>\n",
       "      <td>11824.000000</td>\n",
       "      <td>11809.000000</td>\n",
       "      <td>11824.000000</td>\n",
       "      <td>9163.000000</td>\n",
       "    </tr>\n",
       "    <tr>\n",
       "      <th>mean</th>\n",
       "      <td>40.491628</td>\n",
       "      <td>-3.776863</td>\n",
       "      <td>73.730557</td>\n",
       "      <td>3.277486</td>\n",
       "      <td>1.285229</td>\n",
       "      <td>1.34429</td>\n",
       "      <td>2.049122</td>\n",
       "      <td>73.713059</td>\n",
       "      <td>73.712592</td>\n",
       "      <td>22.664834</td>\n",
       "      <td>91.628179</td>\n",
       "    </tr>\n",
       "    <tr>\n",
       "      <th>std</th>\n",
       "      <td>4.701030</td>\n",
       "      <td>14.014695</td>\n",
       "      <td>26.648801</td>\n",
       "      <td>2.093973</td>\n",
       "      <td>0.664691</td>\n",
       "      <td>0.90518</td>\n",
       "      <td>1.623489</td>\n",
       "      <td>2.711387</td>\n",
       "      <td>71.624844</td>\n",
       "      <td>38.092338</td>\n",
       "      <td>9.137614</td>\n",
       "    </tr>\n",
       "    <tr>\n",
       "      <th>min</th>\n",
       "      <td>-37.851182</td>\n",
       "      <td>-123.124429</td>\n",
       "      <td>31.320988</td>\n",
       "      <td>1.000000</td>\n",
       "      <td>0.000000</td>\n",
       "      <td>0.00000</td>\n",
       "      <td>1.000000</td>\n",
       "      <td>43.222222</td>\n",
       "      <td>9.000000</td>\n",
       "      <td>0.000000</td>\n",
       "      <td>20.000000</td>\n",
       "    </tr>\n",
       "    <tr>\n",
       "      <th>25%</th>\n",
       "      <td>40.409758</td>\n",
       "      <td>-3.707538</td>\n",
       "      <td>40.894831</td>\n",
       "      <td>2.000000</td>\n",
       "      <td>1.000000</td>\n",
       "      <td>1.00000</td>\n",
       "      <td>1.000000</td>\n",
       "      <td>74.080606</td>\n",
       "      <td>34.000000</td>\n",
       "      <td>1.000000</td>\n",
       "      <td>89.000000</td>\n",
       "    </tr>\n",
       "    <tr>\n",
       "      <th>50%</th>\n",
       "      <td>40.419331</td>\n",
       "      <td>-3.700763</td>\n",
       "      <td>95.101560</td>\n",
       "      <td>3.000000</td>\n",
       "      <td>1.000000</td>\n",
       "      <td>1.00000</td>\n",
       "      <td>2.000000</td>\n",
       "      <td>74.080606</td>\n",
       "      <td>55.000000</td>\n",
       "      <td>7.000000</td>\n",
       "      <td>94.000000</td>\n",
       "    </tr>\n",
       "    <tr>\n",
       "      <th>75%</th>\n",
       "      <td>40.430778</td>\n",
       "      <td>-3.683917</td>\n",
       "      <td>95.101560</td>\n",
       "      <td>4.000000</td>\n",
       "      <td>1.000000</td>\n",
       "      <td>2.00000</td>\n",
       "      <td>2.000000</td>\n",
       "      <td>74.080606</td>\n",
       "      <td>87.000000</td>\n",
       "      <td>27.000000</td>\n",
       "      <td>98.000000</td>\n",
       "    </tr>\n",
       "    <tr>\n",
       "      <th>max</th>\n",
       "      <td>55.966912</td>\n",
       "      <td>153.371427</td>\n",
       "      <td>95.101560</td>\n",
       "      <td>16.000000</td>\n",
       "      <td>8.000000</td>\n",
       "      <td>10.00000</td>\n",
       "      <td>16.000000</td>\n",
       "      <td>79.411765</td>\n",
       "      <td>969.000000</td>\n",
       "      <td>356.000000</td>\n",
       "      <td>100.000000</td>\n",
       "    </tr>\n",
       "  </tbody>\n",
       "</table>\n",
       "</div>"
      ],
      "text/plain": [
       "           Latitude     Longitude     Room Type  Accommodates     Bathrooms  \\\n",
       "count  11824.000000  11824.000000  11824.000000  11824.000000  11780.000000   \n",
       "mean      40.491628     -3.776863     73.730557      3.277486      1.285229   \n",
       "std        4.701030     14.014695     26.648801      2.093973      0.664691   \n",
       "min      -37.851182   -123.124429     31.320988      1.000000      0.000000   \n",
       "25%       40.409758     -3.707538     40.894831      2.000000      1.000000   \n",
       "50%       40.419331     -3.700763     95.101560      3.000000      1.000000   \n",
       "75%       40.430778     -3.683917     95.101560      4.000000      1.000000   \n",
       "max       55.966912    153.371427     95.101560     16.000000      8.000000   \n",
       "\n",
       "          Bedrooms          Beds      Bed Type         Price  \\\n",
       "count  11804.00000  11787.000000  11824.000000  11809.000000   \n",
       "mean       1.34429      2.049122     73.713059     73.712592   \n",
       "std        0.90518      1.623489      2.711387     71.624844   \n",
       "min        0.00000      1.000000     43.222222      9.000000   \n",
       "25%        1.00000      1.000000     74.080606     34.000000   \n",
       "50%        1.00000      2.000000     74.080606     55.000000   \n",
       "75%        2.00000      2.000000     74.080606     87.000000   \n",
       "max       10.00000     16.000000     79.411765    969.000000   \n",
       "\n",
       "       Number of Reviews  Review Scores Rating  \n",
       "count       11824.000000           9163.000000  \n",
       "mean           22.664834             91.628179  \n",
       "std            38.092338              9.137614  \n",
       "min             0.000000             20.000000  \n",
       "25%             1.000000             89.000000  \n",
       "50%             7.000000             94.000000  \n",
       "75%            27.000000             98.000000  \n",
       "max           356.000000            100.000000  "
      ]
     },
     "execution_count": 12,
     "metadata": {},
     "output_type": "execute_result"
    }
   ],
   "source": [
    "airbnb_data_clean.describe()"
   ]
  },
  {
   "cell_type": "markdown",
   "id": "e9bae1d6",
   "metadata": {},
   "source": [
    "<div class=\"alert alert-success\">\n",
    "    <center>\n",
    "<b> Grafico un par de valores</b> \n",
    "    </center>\n",
    "</div>"
   ]
  },
  {
   "cell_type": "code",
   "execution_count": 13,
   "id": "0d86e2a6",
   "metadata": {
    "scrolled": true
   },
   "outputs": [
    {
     "data": {
      "image/png": "[encoded data removed]",
      "text/plain": [
       "<Figure size 1080x360 with 2 Axes>"
      ]
     },
     "metadata": {
      "needs_background": "light"
     },
     "output_type": "display_data"
    }
   ],
   "source": [
    "plt.figure(figsize=(15, 5))\n",
    "\n",
    "plt.subplot(1,2,1)\n",
    "airbnb_data_clean['Bedrooms'].plot.hist(alpha=0.5, bins=25, grid = True)\n",
    "plt.axis([0, 10, 0, 10000])\n",
    "plt.xlabel('Bedrooms')\n",
    "\n",
    "# plt.subplot(1,3,2)\n",
    "# airbnb_data_clean['Square Meters'].plot.hist(alpha=0.5, bins=25, grid = True)\n",
    "# plt.xlabel('Sq. Meters')\n",
    "\n",
    "plt.subplot(1,2,2)\n",
    "airbnb_data_clean['Bathrooms'].plot.hist(alpha=0.5, bins=25, grid = True)\n",
    "plt.xlabel('Bathrooms')\n",
    "\n",
    "plt.show()"
   ]
  },
  {
   "cell_type": "markdown",
   "id": "16625df1",
   "metadata": {},
   "source": [
    "<div class=\"alert alert-success\">\n",
    "    <center>\n",
    "<b> Algunas entradas con 0 metros cuadrados y/o 0 habitaciones (esto último técnicamente puede ser)</b> \n",
    "    </center>\n",
    "</div>"
   ]
  },
  {
   "cell_type": "markdown",
   "id": "7a0099e7",
   "metadata": {},
   "source": [
    "<div class=\"alert alert-success\">\n",
    "    <center>\n",
    "<b> Hagamos una correlación entre todo a ver qué hay</b> \n",
    "    </center>\n",
    "</div>"
   ]
  },
  {
   "cell_type": "code",
   "execution_count": 14,
   "id": "4c681b52",
   "metadata": {
    "scrolled": false
   },
   "outputs": [
    {
     "data": {
      "image/png": "[encoded data removed]",
      "text/plain": [
       "<Figure size 432x288 with 1 Axes>"
      ]
     },
     "metadata": {
      "needs_background": "light"
     },
     "output_type": "display_data"
    },
    {
     "data": {
      "image/png": "[encoded data removed]",
      "text/plain": [
       "<Figure size 432x288 with 1 Axes>"
      ]
     },
     "metadata": {
      "needs_background": "light"
     },
     "output_type": "display_data"
    },
    {
     "data": {
      "image/png": "[encoded data removed]",
      "text/plain": [
       "<Figure size 432x288 with 1 Axes>"
      ]
     },
     "metadata": {
      "needs_background": "light"
     },
     "output_type": "display_data"
    },
    {
     "data": {
      "image/png": "[encoded data removed]",
      "text/plain": [
       "<Figure size 432x288 with 1 Axes>"
      ]
     },
     "metadata": {
      "needs_background": "light"
     },
     "output_type": "display_data"
    }
   ],
   "source": [
    "airbnb_data_clean.plot(kind = 'scatter',x='Bedrooms',y = 'Price')\n",
    "plt.xlabel('# bedrooms')\n",
    "plt.ylabel('price ($)')\n",
    "plt.show()\n",
    "\n",
    "airbnb_data_clean.plot(kind = 'scatter',x='Accommodates',y = 'Price')\n",
    "plt.xlabel('Accommodates')\n",
    "plt.ylabel('price ($)')\n",
    "plt.show()\n",
    "\n",
    "airbnb_data_clean.plot(kind = 'scatter',x='Review Scores Rating',y = 'Price')\n",
    "plt.xlabel('Review Scores Rating')\n",
    "plt.ylabel('price ($)')\n",
    "\n",
    "airbnb_data_clean.plot(kind = 'scatter',x='Number of Reviews',y = 'Price')\n",
    "plt.xlabel('Number of Reviews')\n",
    "plt.ylabel('price ($)')\n",
    "\n",
    "plt.show()"
   ]
  },
  {
   "cell_type": "markdown",
   "id": "10cdf5bf",
   "metadata": {},
   "source": [
    "<div class=\"alert alert-success\">\n",
    "    <center>\n",
    "<b> Me interesa la variable \"Review Scores Rating\". Podríamos extraer la relación entre el puntaje y el precio</b> \n",
    "    </center>\n",
    "</div>"
   ]
  },
  {
   "cell_type": "code",
   "execution_count": 15,
   "id": "031fb1d6",
   "metadata": {
    "scrolled": false
   },
   "outputs": [
    {
     "name": "stderr",
     "output_type": "stream",
     "text": [
      "C:\\Users\\zegal\\AppData\\Local\\Temp/ipykernel_11076/2742298373.py:7: DeprecationWarning: `np.bool` is a deprecated alias for the builtin `bool`. To silence this warning, use `bool` by itself. Doing this will not modify any behavior and is safe. If you specifically wanted the numpy scalar type, use `np.bool_` here.\n",
      "Deprecated in NumPy 1.20; for more details and guidance: https://numpy.org/devdocs/release/1.20.0-notes.html#deprecations\n",
      "  mask = np.zeros_like(corr, dtype=np.bool)\n"
     ]
    },
    {
     "data": {
      "image/png": "[encoded data removed]",
      "text/plain": [
       "<Figure size 864x720 with 2 Axes>"
      ]
     },
     "metadata": {
      "needs_background": "light"
     },
     "output_type": "display_data"
    }
   ],
   "source": [
    "import seaborn as sns\n",
    "\n",
    "# Compute the correlation matrix\n",
    "corr = np.abs(airbnb_data_clean.drop(['Price'], axis=1).corr())\n",
    "\n",
    "# Generate a mask for the upper triangle\n",
    "mask = np.zeros_like(corr, dtype=np.bool)\n",
    "mask[np.triu_indices_from(mask)] = True\n",
    "\n",
    "# Set up the matplotlib figure\n",
    "f, ax = plt.subplots(figsize=(12, 10))\n",
    "\n",
    "# Draw the heatmap with the mask and correct aspect ratio\n",
    "sns.heatmap(corr, mask=mask,vmin = 0.0, vmax=1.0, center=0.5,\n",
    "            linewidths=.1, cmap=\"YlGnBu\", cbar_kws={\"shrink\": .8})\n",
    "\n",
    "plt.show()"
   ]
  },
  {
   "cell_type": "markdown",
   "id": "dd72e23a",
   "metadata": {},
   "source": [
    "<div class=\"alert alert-success\">\n",
    "    <center>\n",
    "<b> Aquí se me ocurre que podemos eliminar la variable \"beds\", ya que tiene alta correlación con \"accommodates\" (n° de personas) y \"bedrooms\" (con \"bathrooms\" en menor medida). Si hay alta correlación entre variables podemos caer en overfitting y nuestro modelo no será muy generalizable. También hay cierta correlación entre estas últimas 2 con accommodates, pero por ahora las dejaré.</b> \n",
    "    </center>\n",
    "</div>"
   ]
  },
  {
   "cell_type": "code",
   "execution_count": 16,
   "id": "264fa8aa",
   "metadata": {
    "scrolled": false
   },
   "outputs": [
    {
     "data": {
      "text/html": [
       "<div>\n",
       "<style scoped>\n",
       "    .dataframe tbody tr th:only-of-type {\n",
       "        vertical-align: middle;\n",
       "    }\n",
       "\n",
       "    .dataframe tbody tr th {\n",
       "        vertical-align: top;\n",
       "    }\n",
       "\n",
       "    .dataframe thead th {\n",
       "        text-align: right;\n",
       "    }\n",
       "</style>\n",
       "<table border=\"1\" class=\"dataframe\">\n",
       "  <thead>\n",
       "    <tr style=\"text-align: right;\">\n",
       "      <th></th>\n",
       "      <th>Latitude</th>\n",
       "      <th>Longitude</th>\n",
       "      <th>Room Type</th>\n",
       "      <th>Accommodates</th>\n",
       "      <th>Bathrooms</th>\n",
       "      <th>Bedrooms</th>\n",
       "      <th>Bed Type</th>\n",
       "      <th>Price</th>\n",
       "      <th>Number of Reviews</th>\n",
       "      <th>Review Scores Rating</th>\n",
       "    </tr>\n",
       "  </thead>\n",
       "  <tbody>\n",
       "    <tr>\n",
       "      <th>0</th>\n",
       "      <td>40.407732</td>\n",
       "      <td>-3.684819</td>\n",
       "      <td>95.101560</td>\n",
       "      <td>4</td>\n",
       "      <td>1.0</td>\n",
       "      <td>1.0</td>\n",
       "      <td>74.080606</td>\n",
       "      <td>60.0</td>\n",
       "      <td>12</td>\n",
       "      <td>95.0</td>\n",
       "    </tr>\n",
       "    <tr>\n",
       "      <th>1</th>\n",
       "      <td>40.415802</td>\n",
       "      <td>-3.705340</td>\n",
       "      <td>95.101560</td>\n",
       "      <td>4</td>\n",
       "      <td>1.0</td>\n",
       "      <td>1.0</td>\n",
       "      <td>74.080606</td>\n",
       "      <td>50.0</td>\n",
       "      <td>20</td>\n",
       "      <td>91.0</td>\n",
       "    </tr>\n",
       "    <tr>\n",
       "      <th>2</th>\n",
       "      <td>40.389048</td>\n",
       "      <td>-3.740374</td>\n",
       "      <td>31.320988</td>\n",
       "      <td>1</td>\n",
       "      <td>1.5</td>\n",
       "      <td>1.0</td>\n",
       "      <td>74.080606</td>\n",
       "      <td>10.0</td>\n",
       "      <td>0</td>\n",
       "      <td>NaN</td>\n",
       "    </tr>\n",
       "    <tr>\n",
       "      <th>3</th>\n",
       "      <td>40.412814</td>\n",
       "      <td>-3.703052</td>\n",
       "      <td>40.894831</td>\n",
       "      <td>2</td>\n",
       "      <td>3.0</td>\n",
       "      <td>1.0</td>\n",
       "      <td>74.080606</td>\n",
       "      <td>30.0</td>\n",
       "      <td>0</td>\n",
       "      <td>NaN</td>\n",
       "    </tr>\n",
       "    <tr>\n",
       "      <th>4</th>\n",
       "      <td>40.438631</td>\n",
       "      <td>-3.713716</td>\n",
       "      <td>40.894831</td>\n",
       "      <td>2</td>\n",
       "      <td>1.0</td>\n",
       "      <td>1.0</td>\n",
       "      <td>74.080606</td>\n",
       "      <td>32.0</td>\n",
       "      <td>97</td>\n",
       "      <td>92.0</td>\n",
       "    </tr>\n",
       "  </tbody>\n",
       "</table>\n",
       "</div>"
      ],
      "text/plain": [
       "    Latitude  Longitude  Room Type  Accommodates  Bathrooms  Bedrooms  \\\n",
       "0  40.407732  -3.684819  95.101560             4        1.0       1.0   \n",
       "1  40.415802  -3.705340  95.101560             4        1.0       1.0   \n",
       "2  40.389048  -3.740374  31.320988             1        1.5       1.0   \n",
       "3  40.412814  -3.703052  40.894831             2        3.0       1.0   \n",
       "4  40.438631  -3.713716  40.894831             2        1.0       1.0   \n",
       "\n",
       "    Bed Type  Price  Number of Reviews  Review Scores Rating  \n",
       "0  74.080606   60.0                 12                  95.0  \n",
       "1  74.080606   50.0                 20                  91.0  \n",
       "2  74.080606   10.0                  0                   NaN  \n",
       "3  74.080606   30.0                  0                   NaN  \n",
       "4  74.080606   32.0                 97                  92.0  "
      ]
     },
     "execution_count": 16,
     "metadata": {},
     "output_type": "execute_result"
    }
   ],
   "source": [
    "airbnb_data_clean = airbnb_data_clean.drop([\"Beds\"], axis=1)\n",
    "airbnb_data_clean.head()"
   ]
  },
  {
   "cell_type": "markdown",
   "id": "d519e559",
   "metadata": {},
   "source": [
    "<div class=\"alert alert-success\">\n",
    "    <center>\n",
    "<b> Imputo y selecciono/divido variables al mismo tiempo (me dí cuenta de que el  imputer devuelve un array de Numpy)</b> \n",
    "    </center>\n",
    "</div>"
   ]
  },
  {
   "cell_type": "code",
   "execution_count": 17,
   "id": "d5c572fe",
   "metadata": {},
   "outputs": [],
   "source": [
    "from sklearn.impute import KNNImputer\n",
    "\n",
    "imputer = KNNImputer(weights=\"distance\")\n",
    "\n",
    "\n",
    "data=imputer.fit_transform(airbnb_data_clean) #ESTO ES EL TRAINING SET\n",
    "\n",
    "X=data[:,[0, 1,2,3,4,5,6,8,9]] #Resto de columnas\n",
    "y=data[:,[7]] #Columna PRICE\n"
   ]
  },
  {
   "cell_type": "markdown",
   "id": "4d1d9f97",
   "metadata": {},
   "source": [
    "<div class=\"alert alert-success\">\n",
    "    <center>\n",
    "<b> Me he dado cuenta de que, por el simple hecho de que la columna \"prices\" no sea la primera como en el ejemplo de la clase, se me complicó la vida. Todo es más complicado.</b> \n",
    "    </center>\n",
    "</div>"
   ]
  },
  {
   "cell_type": "code",
   "execution_count": 18,
   "id": "012e1e13",
   "metadata": {},
   "outputs": [
    {
     "data": {
      "text/plain": [
       "Index(['Latitude', 'Longitude', 'Room Type', 'Accommodates', 'Bathrooms',\n",
       "       'Bedrooms', 'Bed Type', 'Price', 'Number of Reviews',\n",
       "       'Review Scores Rating'],\n",
       "      dtype='object')"
      ]
     },
     "execution_count": 18,
     "metadata": {},
     "output_type": "execute_result"
    }
   ],
   "source": [
    "airbnb_data_clean.columns"
   ]
  },
  {
   "cell_type": "markdown",
   "id": "a42d236b",
   "metadata": {},
   "source": [
    "<div class=\"alert alert-success\">\n",
    "    <center>\n",
    "<b> Aquí por ejemplo no pude utilizar el atributo \"COLUMNS\" porque no sé cómo unir los índices (hacer algo así como <em>airbnb_data_clean.columns[1:5 & 7]</em>  )</b> \n",
    "    </center>\n",
    "</div>\n"
   ]
  },
  {
   "cell_type": "code",
   "execution_count": 19,
   "id": "0bce1364",
   "metadata": {
    "scrolled": false
   },
   "outputs": [
    {
     "name": "stderr",
     "output_type": "stream",
     "text": [
      "D:\\Programas\\Anaconda\\lib\\site-packages\\sklearn\\utils\\validation.py:63: DataConversionWarning: A column-vector y was passed when a 1d array was expected. Please change the shape of y to (n_samples, ), for example using ravel().\n",
      "  return f(*args, **kwargs)\n",
      "D:\\Programas\\Anaconda\\lib\\site-packages\\sklearn\\utils\\validation.py:63: DataConversionWarning: A column-vector y was passed when a 1d array was expected. Please change the shape of y to (n_samples, ), for example using ravel().\n",
      "  return f(*args, **kwargs)\n"
     ]
    },
    {
     "data": {
      "image/png": "[encoded data removed]",
      "text/plain": [
       "<Figure size 1440x360 with 2 Axes>"
      ]
     },
     "metadata": {
      "needs_background": "light"
     },
     "output_type": "display_data"
    }
   ],
   "source": [
    "from sklearn.feature_selection import f_regression, mutual_info_regression\n",
    "\n",
    "\n",
    "feature_names = ['Latitude', 'Longitude', 'Room Type', 'Accommodates', 'Bathrooms', 'Bedrooms', 'Bed Type',\n",
    "                 'Number of Reviews', 'Review Scores Rating']\n",
    "\n",
    "\n",
    "# do calculations\n",
    "f_test, _ = f_regression(X, y)\n",
    "f_test /= np.max(f_test)\n",
    "\n",
    "mi = mutual_info_regression(X, y)\n",
    "mi /= np.max(mi)\n",
    "\n",
    "# do some plotting\n",
    "plt.figure(figsize=(20, 5))\n",
    "\n",
    "plt.subplot(1,2,1)\n",
    "plt.bar(range(X.shape[1]),f_test,  align=\"center\")\n",
    "plt.xticks(range(X.shape[1]),feature_names, rotation = 90)\n",
    "plt.xlabel('features')\n",
    "plt.ylabel('Ranking')\n",
    "plt.title('$F test$ score')\n",
    "\n",
    "plt.subplot(1,2,2)\n",
    "plt.bar(range(X.shape[1]),mi, align=\"center\")\n",
    "plt.xticks(range(X.shape[1]),feature_names, rotation = 90)\n",
    "plt.xlabel('features')\n",
    "plt.ylabel('Ranking')\n",
    "plt.title('Mutual information score')\n",
    "\n",
    "plt.show()"
   ]
  },
  {
   "cell_type": "markdown",
   "id": "d37e3de7",
   "metadata": {},
   "source": [
    "<div class=\"alert alert-success\">\n",
    "    <center>\n",
    "<b> Bueno, de esto extraigo que Room Type, accomodates y bedrooms (que de por sí tienen cierta correlación) son las 3 variables importantes (tanto en ftest como en mutual). Del Mutual saco que Review scores rating es bastante alta. Las únicas que no suman casi nada en ninguno de los tests son N° of reviews y bed type.</b> \n",
    "    </center>\n",
    "</div>\n"
   ]
  },
  {
   "cell_type": "markdown",
   "id": "54eab5f5",
   "metadata": {},
   "source": [
    "<div class=\"alert alert-warning\">\n",
    "    <center>\n",
    "<b> Joder, este práctico es un desorden total, pero lo voy atando con alambres. Aquí elimino las variables que no sirven y vuelvo a asignar el training set. Ahora que hice Lasso abajo, que en teoría ayuda a elegir variables, me pregunto si era necesario hacer todo esto del f_test y el mutual information... pero ya lo hice así que ahí quedará.</b> \n",
    "    </center>\n",
    "</div>"
   ]
  },
  {
   "cell_type": "code",
   "execution_count": 20,
   "id": "373bebe3",
   "metadata": {},
   "outputs": [
    {
     "data": {
      "text/plain": [
       "Index(['Latitude', 'Longitude', 'Room Type', 'Accommodates', 'Bathrooms',\n",
       "       'Bedrooms', 'Price', 'Review Scores Rating'],\n",
       "      dtype='object')"
      ]
     },
     "execution_count": 20,
     "metadata": {},
     "output_type": "execute_result"
    }
   ],
   "source": [
    "airbnb_data_clean = airbnb_data_clean.drop([\"Bed Type\",\"Number of Reviews\"], axis=1)\n",
    "\n",
    "data=imputer.fit_transform(airbnb_data_clean) #ESTO ES EL TRAINING SET\n",
    "airbnb_data_clean.columns\n"
   ]
  },
  {
   "cell_type": "code",
   "execution_count": 21,
   "id": "40e1f4cc",
   "metadata": {},
   "outputs": [],
   "source": [
    "X=data[:,[0, 1,2,3,4,5,7]] #Resto de columnas\n",
    "y=data[:,[6]] #Columna PRICE"
   ]
  },
  {
   "cell_type": "markdown",
   "id": "cae5aa5b",
   "metadata": {},
   "source": [
    "<div class=\"alert alert-success\">\n",
    "    <center>\n",
    "<b> Escalado del training set</b> \n",
    "    </center>\n",
    "</div>\n"
   ]
  },
  {
   "cell_type": "code",
   "execution_count": 22,
   "id": "7fedbdd9",
   "metadata": {},
   "outputs": [
    {
     "data": {
      "text/plain": [
       "array([[-0.01784705,  0.00656796,  0.80198379, ..., -0.42958464,\n",
       "        -0.37982517,  0.39210253],\n",
       "       [-0.01613026,  0.0051036 ,  0.80198379, ..., -0.42958464,\n",
       "        -0.37982517, -0.07741135],\n",
       "       [-0.02182161,  0.00260372, -1.59149234, ...,  0.32235324,\n",
       "        -0.37982517,  0.04096579],\n",
       "       ...,\n",
       "       [-0.01603054,  0.00455043,  0.80198379, ..., -0.42958464,\n",
       "        -0.37982517,  0.27472406],\n",
       "       [-0.0166419 ,  0.00467975,  0.80198379, ..., -0.42958464,\n",
       "        -0.37982517,  0.74423794],\n",
       "       [-0.01289493,  0.00707099, -1.23221734, ..., -0.42958464,\n",
       "        -0.37982517, -0.78168218]])"
      ]
     },
     "execution_count": 22,
     "metadata": {},
     "output_type": "execute_result"
    }
   ],
   "source": [
    "from sklearn import preprocessing\n",
    "\n",
    "# Escalamos (con los datos de train)\n",
    "scaler = preprocessing.StandardScaler().fit(X)\n",
    "XtrainScaled = scaler.transform(X)\n",
    "XtrainScaled"
   ]
  },
  {
   "cell_type": "markdown",
   "id": "6b1e077a",
   "metadata": {},
   "source": [
    "<div class=\"alert alert-success\">\n",
    "    <center>\n",
    "<b> Me va gustando, con esto probaré un par de modelos y veré cómo viene la cosa</b> \n",
    "    </center>\n",
    "</div>\n"
   ]
  },
  {
   "cell_type": "markdown",
   "id": "0ed40133",
   "metadata": {},
   "source": [
    "![](https://scikit-learn.org/stable/_static/ml_map.png)"
   ]
  },
  {
   "cell_type": "code",
   "execution_count": 23,
   "id": "4ad91dfb",
   "metadata": {},
   "outputs": [
    {
     "data": {
      "text/plain": [
       "(11824, 8)"
      ]
     },
     "execution_count": 23,
     "metadata": {},
     "output_type": "execute_result"
    }
   ],
   "source": [
    "airbnb_data_clean.shape"
   ]
  },
  {
   "cell_type": "markdown",
   "id": "a8b49d7d",
   "metadata": {},
   "source": [
    "<div class=\"alert alert-success\">\n",
    "    <center>\n",
    "<b> Según nuestro amigo Scikit Learn, lo más factible es utilizar LASSO, Ridge o SVR con kernel lineal. Vamos a ver</b> \n",
    "    </center>\n",
    "</div>\n"
   ]
  },
  {
   "cell_type": "markdown",
   "id": "ec06eadd",
   "metadata": {},
   "source": [
    "<div class=\"alert alert-success\">\n",
    "    <center>\n",
    "<b> Para elegir el mejor alfa, hago cross-validation, por supuesto:</b> \n",
    "    </center>\n",
    "</div>\n"
   ]
  },
  {
   "cell_type": "code",
   "execution_count": 24,
   "id": "347757a4",
   "metadata": {
    "scrolled": true
   },
   "outputs": [
    {
     "name": "stdout",
     "output_type": "stream",
     "text": [
      "best mean cross-validation score: -3342.550\n",
      "best parameters: {'alpha': 0.006189658188912597}\n"
     ]
    },
    {
     "data": {
      "image/png": "[encoded data removed]",
      "text/plain": [
       "<Figure size 432x288 with 1 Axes>"
      ]
     },
     "metadata": {
      "needs_background": "light"
     },
     "output_type": "display_data"
    }
   ],
   "source": [
    "from sklearn.model_selection import GridSearchCV\n",
    "from sklearn.linear_model import Lasso\n",
    "\n",
    "# Dejaré esta nota por si se me olvida xD\n",
    "\n",
    "# Por convención, GridSearchCV siempre intenta MAXIMIZAR los resultados, por lo que\n",
    "# funciones de coste, como MSE, tienen que ir negadas: https://github.com/scikit-learn/scikit-learn/issues/2439\n",
    "# Por eso aparece neg_mean_squared_error y por eso hay luego un -1 multiplicando\n",
    "\n",
    "#Recordar que X es mi x_train, y es my y_train\n",
    "\n",
    "alpha_vector = np.logspace(-10,1,25)\n",
    "param_grid = {'alpha': alpha_vector }\n",
    "grid = GridSearchCV(Lasso(), scoring= 'neg_mean_squared_error', param_grid=param_grid, cv = 5)\n",
    "grid.fit(X, y)\n",
    "print(\"best mean cross-validation score: {:.3f}\".format(grid.best_score_))\n",
    "print(\"best parameters: {}\".format(grid.best_params_))\n",
    "\n",
    "scores = -1*np.array(grid.cv_results_['mean_test_score'])\n",
    "plt.semilogx(alpha_vector,scores,'-o')\n",
    "plt.xlabel('alpha',fontsize=16)\n",
    "plt.ylabel('5-Fold MSE')\n",
    "# plt.ylim((0, 1))\n",
    "plt.show()"
   ]
  },
  {
   "cell_type": "markdown",
   "id": "9caf1a11",
   "metadata": {},
   "source": [
    "<div class=\"alert alert-success\">\n",
    "    <center>\n",
    "<b> Bueno, aquí aplico todas las transformaciones del training al test set. Como dicen ustedes, qué coñazo.</b> \n",
    "    </center>\n",
    "</div>\n"
   ]
  },
  {
   "cell_type": "code",
   "execution_count": 25,
   "id": "3ba4849a",
   "metadata": {},
   "outputs": [],
   "source": [
    "test = airbnb_data_test.drop([\"ID\",\"Listing Url\", \"Scrape ID\",\"Name\",\"Summary\",\"Space\",\"Description\",\"Experiences Offered\",\n",
    "                                      \"Neighborhood Overview\",\"Notes\",\"Transit\",\"Access\",\"Interaction\",\"House Rules\",\n",
    "                                      \"Thumbnail Url\",\"Medium Url\",\"Picture Url\",\"XL Picture Url\",\"Host ID\",\"Host URL\",\n",
    "                                      \"Host Name\", \"Host Since\",\n",
    "\"Host Location\",\"Bed Type\",\"Number of Reviews\",\"Beds\",\n",
    "\"Host About\",\n",
    "\"Host Response Time\",\n",
    "\"Host Response Rate\",\n",
    "\"Host Acceptance Rate\",\n",
    "\"Host Thumbnail Url\",\n",
    "\"Host Picture Url\",\n",
    "\"Host Neighbourhood\",\n",
    "\"Host Listings Count\",\n",
    "\"Host Total Listings Count\",\n",
    "\"Host Verifications\",\n",
    "\"Street\",\n",
    "\"Neighbourhood Cleansed\",\n",
    "\"Neighbourhood Group Cleansed\",\n",
    "\"Market\",\n",
    "\"Smart Location\",\n",
    "\"Country Code\",\n",
    "\"Weekly Price\",\n",
    "\"Monthly Price\",\n",
    "\"Security Deposit\",\n",
    "\"Cleaning Fee\",\n",
    "\"Guests Included\",\n",
    "\"Extra People\",\n",
    "\"Minimum Nights\",\n",
    "\"Maximum Nights\",\n",
    "\"Calendar Updated\",\n",
    "\"Has Availability\",\n",
    "\"Availability 30\",\n",
    "\"Availability 60\",\n",
    "\"Availability 90\",\n",
    "\"Availability 365\",\n",
    "\"Calendar last Scraped\",\n",
    "\"First Review\",\n",
    "\"Last Review\",\n",
    "\"Review Scores Accuracy\",\n",
    "\"Review Scores Cleanliness\",\n",
    "\"Review Scores Checkin\",\n",
    "\"Review Scores Communication\",\n",
    "\"Review Scores Location\",\n",
    "\"Review Scores Value\",\n",
    "\"License\",\n",
    "\"Jurisdiction Names\",\n",
    "\"Cancellation Policy\",\n",
    "\"Calculated host listings count\",\n",
    "\"Reviews per Month\",\n",
    "\"Geolocation\",\n",
    "\"Features\",\n",
    "\"Amenities\",\n",
    "\"Last Scraped\",\n",
    "\"State\",\n",
    "\"Zipcode\", \"Square Feet\", \"City\", \"Country\", \"Neighbourhood\", \"Property Type\"], axis=1)\n",
    "\n",
    "categorical = ['Room Type']\n",
    "\n",
    "mean_map = {}\n",
    "for c in categorical:\n",
    "    mean = test.groupby(c)['Price'].mean()\n",
    "    test[c] = test[c].map(mean)    \n",
    "    mean_map[c] = mean\n",
    "\n",
    "imputer = KNNImputer(weights=\"distance\")\n",
    "\n",
    "\n",
    "data_test=imputer.fit_transform(test) #ESTO ES EL testing SET\n",
    "\n"
   ]
  },
  {
   "cell_type": "code",
   "execution_count": 26,
   "id": "76a692fd",
   "metadata": {},
   "outputs": [
    {
     "data": {
      "text/plain": [
       "Index(['Latitude', 'Longitude', 'Room Type', 'Accommodates', 'Bathrooms',\n",
       "       'Bedrooms', 'Price', 'Review Scores Rating'],\n",
       "      dtype='object')"
      ]
     },
     "execution_count": 26,
     "metadata": {},
     "output_type": "execute_result"
    }
   ],
   "source": [
    "test.columns"
   ]
  },
  {
   "cell_type": "code",
   "execution_count": 27,
   "id": "034f1c8d",
   "metadata": {},
   "outputs": [],
   "source": [
    "X_test=data_test[:,[0, 1,2,3,4,5,7]] #Resto de columnas\n",
    "y_test=data_test[:,[6]] #Columna PRICE\n",
    "XtestScaled = scaler.transform(X_test) #Escalado del testing set (con el escalador calculado del training)\n"
   ]
  },
  {
   "cell_type": "markdown",
   "id": "7b2253a8",
   "metadata": {},
   "source": [
    "<div class=\"alert alert-success\">\n",
    "    <center>\n",
    "<b> X = Training X<br><br>y = training y<br><br>X_test = testing X<br><br>y_test = testing y<br><br>XtrainScaled = X train escalado<br><br>XtestScaled = X test escalado</b> \n",
    "    </center>\n",
    "</div>\n"
   ]
  },
  {
   "cell_type": "code",
   "execution_count": 28,
   "id": "b4a4c9e6",
   "metadata": {},
   "outputs": [],
   "source": [
    "# alpha_optimo = grid.best_params_['alpha'] \n",
    "# lasso = Lasso(alpha = alpha_optimo).fit(X,y)\n",
    "\n",
    "# # predicción\n",
    "# y_hat = lasso.predict(X_test)\n",
    "# w = lasso.coef_\n",
    "# norm_w2 = np.dot(w,w.T)\n",
    "\n",
    "# # error\n",
    "# error_test = np.mean(np.power(y - y_hat,2)) \n"
   ]
  },
  {
   "cell_type": "code",
   "execution_count": 29,
   "id": "e70397c2",
   "metadata": {},
   "outputs": [
    {
     "data": {
      "text/plain": [
       "Index(['Latitude', 'Longitude', 'Room Type', 'Accommodates', 'Bathrooms',\n",
       "       'Bedrooms', 'Review Scores Rating'],\n",
       "      dtype='object')"
      ]
     },
     "execution_count": 29,
     "metadata": {},
     "output_type": "execute_result"
    }
   ],
   "source": [
    "features = test.columns.drop(['Price']) #Utilizo TEST porque es la que tengo más cerca y no me quiero complicar, \n",
    "                                        #pero esto sirve solo para extraer los nombres de las features\n",
    "features"
   ]
  },
  {
   "cell_type": "code",
   "execution_count": 30,
   "id": "846c6b13",
   "metadata": {
    "scrolled": true
   },
   "outputs": [
    {
     "name": "stdout",
     "output_type": "stream",
     "text": [
      "MSE Modelo Lasso (train): 3.34e+03\n",
      "MSE Modelo Lasso (test) : 3.42e+03\n",
      "RMSE Modelo Lasso (train): 57.8\n",
      "RMSE Modelo Lasso (test) : 58.5\n",
      "R^2 Modelo Lasso (Train): 0.35855\n",
      "R^2 Modelo Lasso (Test) : 0.37626\n",
      "Latitude -1.4535885052570123\n",
      "Longitude -1.4837279735931566\n",
      "Room Type 15.316365067941963\n",
      "Accommodates 14.613132782789487\n",
      "Bathrooms 13.717925411536081\n",
      "Bedrooms 13.82203178706737\n",
      "Review Scores Rating 5.32260503698715\n"
     ]
    }
   ],
   "source": [
    "from sklearn.metrics import mean_squared_error\n",
    "\n",
    "alpha_optimo = grid.best_params_['alpha'] #Obtenido más arriba\n",
    "lasso = Lasso(alpha = alpha_optimo).fit(XtrainScaled,y)\n",
    "\n",
    "ytrainLasso = lasso.predict(XtrainScaled)\n",
    "ytestLasso  = lasso.predict(XtestScaled)\n",
    "\n",
    "mseTrainModelLasso = mean_squared_error(y,ytrainLasso)\n",
    "mseTestModelLasso = mean_squared_error(y_test,ytestLasso)\n",
    "\n",
    "r2lassotrain = lasso.score(XtrainScaled,y)\n",
    "r2lasssotest = lasso.score(XtestScaled,y_test)\n",
    "\n",
    "\n",
    "print('MSE Modelo Lasso (train): %0.3g' % mseTrainModelLasso)\n",
    "print('MSE Modelo Lasso (test) : %0.3g' % mseTestModelLasso)\n",
    "\n",
    "print('RMSE Modelo Lasso (train): %0.3g' % np.sqrt(mseTrainModelLasso))\n",
    "print('RMSE Modelo Lasso (test) : %0.3g' % np.sqrt(mseTestModelLasso))\n",
    "\n",
    "print('R^2 Modelo Lasso (Train): %0.5g' % r2lassotrain)\n",
    "print('R^2 Modelo Lasso (Test) : %0.5g' % r2lasssotest)\n",
    "\n",
    "w = lasso.coef_\n",
    "for f,wi in zip(features,w):\n",
    "    print(f,wi)"
   ]
  },
  {
   "cell_type": "markdown",
   "id": "dc11d8ef",
   "metadata": {},
   "source": [
    "<div class=\"alert alert-success\">\n",
    "    <center>\n",
    "<b> Intentaré con decision tree<br></b> \n",
    "    </center>\n",
    "</div>\n"
   ]
  },
  {
   "cell_type": "code",
   "execution_count": 31,
   "id": "cf6312d9",
   "metadata": {},
   "outputs": [
    {
     "name": "stdout",
     "output_type": "stream",
     "text": [
      "best mean cross-validation score: 0.440\n",
      "best parameters: {'max_depth': 8}\n"
     ]
    },
    {
     "data": {
      "image/png": "[encoded data removed]",
      "text/plain": [
       "<Figure size 432x288 with 1 Axes>"
      ]
     },
     "metadata": {
      "needs_background": "light"
     },
     "output_type": "display_data"
    }
   ],
   "source": [
    "from sklearn.tree import DecisionTreeRegressor\n",
    "\n",
    "from sklearn.model_selection import GridSearchCV\n",
    "from sklearn import tree\n",
    "\n",
    "\n",
    "maxDepth = range(1,15)\n",
    "param_grid = {'max_depth': maxDepth }\n",
    "grid = GridSearchCV(DecisionTreeRegressor(random_state=0), param_grid=param_grid, cv = 10)\n",
    "grid.fit(XtrainScaled, y)\n",
    "print(\"best mean cross-validation score: {:.3f}\".format(grid.best_score_))\n",
    "print(\"best parameters: {}\".format(grid.best_params_))\n",
    "\n",
    "scores = np.array(grid.cv_results_['mean_test_score'])\n",
    "plt.plot(maxDepth,scores,'-o')\n",
    "plt.xlabel('max_depth',fontsize=16)\n",
    "plt.ylabel('10-Fold MSE')\n",
    "#plt.ylim((-1, 0))\n",
    "plt.show()"
   ]
  },
  {
   "cell_type": "code",
   "execution_count": 35,
   "id": "a61eeb9c",
   "metadata": {},
   "outputs": [
    {
     "name": "stdout",
     "output_type": "stream",
     "text": [
      "Train:  0.6270469994304911\n",
      "Test:  0.42157293383468997\n"
     ]
    }
   ],
   "source": [
    "maxDepthOptimo = grid.best_params_['max_depth']\n",
    "treeModel = DecisionTreeRegressor(max_depth=maxDepthOptimo).fit(XtrainScaled,y)\n",
    "\n",
    "print(\"Train: \",treeModel.score(XtrainScaled,y))\n",
    "print(\"Test: \",treeModel.score(XtestScaled,y_test))"
   ]
  },
  {
   "cell_type": "markdown",
   "id": "fb4c76ea",
   "metadata": {},
   "source": [
    "<div class=\"alert alert-success\">\n",
    "    <center>\n",
    "<b> Parece que este modelo tiene mejor score, funciona un poco mejor.<br></b> \n",
    "    </center>\n",
    "</div>\n"
   ]
  },
  {
   "cell_type": "markdown",
   "id": "e7c87e15",
   "metadata": {},
   "source": [
    "# Pequeña conclusión\n",
    "\n",
    "De estos dos modelos probados, el decision tree parece funcionar mejor, pero sinceramente no estoy del todo seguro de qué tan buenas son esos scores (el R2 de lasso sí que parece bajo). Puede que haya hecho mala selección de features o algo así. Espero con ansias la corrección para aprender.\n",
    "\n",
    "Bueno, la práctica es un poco desordenada. He hecho todo lo posible por comentar mi proceso cognitivo para que sea más fácil corregir y entender qué pasa por mi cabeza en cada punto. Esto no pasa una inspección de clean code ni a palos. Pero creo que he aprendido bastante haciéndola. Me ha pasado de que me dí cuenta de cosas tarde y he tenido que volver atrás a cambiarlas (por ejemplo, no había escalado los Xtest y Xtrain en un principio). Lo que también me di cuenta tarde es que no convertí variables categóricas antes de hacer algunas cosas.\n",
    "\n",
    "La práctica en sí no creo que sea excesivamente compleja... solo que dimos muchos contenidos en 6 clases y por ahí se complica un poco ordenar los pensamientos y las tareas. Creo que podría mejorarla muchísimo, pero aún así estoy bastante conforme con mi trabajo. Sinceramente me he quedado sin tiempo, faltan 30 minutos para la hora límite y bueno, reconozco que últimamente tengo un pequeño problema de procrastinación. \n"
   ]
  },
  {
   "cell_type": "code",
   "execution_count": null,
   "id": "895e30b7",
   "metadata": {},
   "outputs": [],
   "source": []
  },
  {
   "cell_type": "code",
   "execution_count": null,
   "id": "9eecbaa9",
   "metadata": {},
   "outputs": [],
   "source": []
  }
 ],
 "metadata": {
  "kernelspec": {
   "display_name": "Python 3 (ipykernel)",
   "language": "python",
   "name": "python3"
  },
  "language_info": {
   "codemirror_mode": {
    "name": "ipython",
    "version": 3
   },
   "file_extension": ".py",
   "mimetype": "text/x-python",
   "name": "python",
   "nbconvert_exporter": "python",
   "pygments_lexer": "ipython3",
   "version": "3.9.7"
  }
 },
 "nbformat": 4,
 "nbformat_minor": 5
}
